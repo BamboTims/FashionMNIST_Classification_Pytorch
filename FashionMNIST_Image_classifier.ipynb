{
  "cells": [
    {
      "cell_type": "markdown",
      "metadata": {
        "id": "ZK0L_AK8o5Em"
      },
      "source": [
        "# Image Classifier\n",
        "Using the FashionMNIST Image datasets\n",
        "\n",
        "## Importing Libraries"
      ]
    },
    {
      "cell_type": "code",
      "execution_count": 1,
      "metadata": {
        "id": "Kkru3i7PnaNb"
      },
      "outputs": [],
      "source": [
        "# import libraries\n",
        "\n",
        "import torch\n",
        "from torch import nn\n",
        "\n",
        "import torchvision\n",
        "from torchvision import datasets\n",
        "from torchvision import transforms\n",
        "from torchvision.transforms import ToTensor\n",
        "\n",
        "import matplotlib.pyplot as plt"
      ]
    },
    {
      "cell_type": "markdown",
      "metadata": {
        "id": "EF9mm9xIo3i1"
      },
      "source": [
        "## Getting a dataset"
      ]
    },
    {
      "cell_type": "code",
      "execution_count": 2,
      "metadata": {
        "id": "Aj400pmOo3HD"
      },
      "outputs": [],
      "source": [
        "# Getting daataset\n",
        "from torchvision import datasets\n",
        "\n",
        "trainDataset = datasets.FashionMNIST(\n",
        "    root=\"data\",\n",
        "    train=True,\n",
        "    download=True,\n",
        "    transform = ToTensor(),\n",
        "    target_transform=None\n",
        ")\n",
        "\n",
        "testDataset = datasets.FashionMNIST(\n",
        "    root=\"data\",\n",
        "    train=False,\n",
        "    download=True,\n",
        "    transform=ToTensor(),\n",
        "    target_transform=None\n",
        ")"
      ]
    },
    {
      "cell_type": "code",
      "execution_count": 3,
      "metadata": {
        "colab": {
          "base_uri": "https://localhost:8080/"
        },
        "id": "sUVtM1hPo0Bu",
        "outputId": "6ad144a4-1a58-48d9-9412-4547311c06c2"
      },
      "outputs": [
        {
          "output_type": "execute_result",
          "data": {
            "text/plain": [
              "(60000, 10000)"
            ]
          },
          "metadata": {},
          "execution_count": 3
        }
      ],
      "source": [
        "len(trainDataset), len(testDataset)"
      ]
    },
    {
      "cell_type": "code",
      "execution_count": 4,
      "metadata": {
        "colab": {
          "base_uri": "https://localhost:8080/"
        },
        "id": "Wipj6SYcp9cc",
        "outputId": "c82b28d3-16d8-496b-b4be-200c004b3074"
      },
      "outputs": [
        {
          "output_type": "execute_result",
          "data": {
            "text/plain": [
              "(tensor([[[0.0000, 0.0000, 0.0000, 0.0000, 0.0000, 0.0000, 0.0000, 0.0000,\n",
              "           0.0000, 0.0000, 0.0000, 0.0000, 0.0000, 0.0000, 0.0000, 0.0000,\n",
              "           0.0000, 0.0000, 0.0000, 0.0000, 0.0000, 0.0000, 0.0000, 0.0000,\n",
              "           0.0000, 0.0000, 0.0000, 0.0000],\n",
              "          [0.0000, 0.0000, 0.0000, 0.0000, 0.0000, 0.0000, 0.0000, 0.0000,\n",
              "           0.0000, 0.0000, 0.0000, 0.0000, 0.0000, 0.0000, 0.0000, 0.0000,\n",
              "           0.0000, 0.0000, 0.0000, 0.0000, 0.0000, 0.0000, 0.0000, 0.0000,\n",
              "           0.0000, 0.0000, 0.0000, 0.0000],\n",
              "          [0.0000, 0.0000, 0.0000, 0.0000, 0.0000, 0.0000, 0.0000, 0.0000,\n",
              "           0.0000, 0.0000, 0.0000, 0.0000, 0.0000, 0.0000, 0.0000, 0.0000,\n",
              "           0.0000, 0.0000, 0.0000, 0.0000, 0.0000, 0.0000, 0.0000, 0.0000,\n",
              "           0.0000, 0.0000, 0.0000, 0.0000],\n",
              "          [0.0000, 0.0000, 0.0000, 0.0000, 0.0000, 0.0000, 0.0000, 0.0000,\n",
              "           0.0000, 0.0000, 0.0000, 0.0000, 0.0039, 0.0000, 0.0000, 0.0510,\n",
              "           0.2863, 0.0000, 0.0000, 0.0039, 0.0157, 0.0000, 0.0000, 0.0000,\n",
              "           0.0000, 0.0039, 0.0039, 0.0000],\n",
              "          [0.0000, 0.0000, 0.0000, 0.0000, 0.0000, 0.0000, 0.0000, 0.0000,\n",
              "           0.0000, 0.0000, 0.0000, 0.0000, 0.0118, 0.0000, 0.1412, 0.5333,\n",
              "           0.4980, 0.2431, 0.2118, 0.0000, 0.0000, 0.0000, 0.0039, 0.0118,\n",
              "           0.0157, 0.0000, 0.0000, 0.0118],\n",
              "          [0.0000, 0.0000, 0.0000, 0.0000, 0.0000, 0.0000, 0.0000, 0.0000,\n",
              "           0.0000, 0.0000, 0.0000, 0.0000, 0.0235, 0.0000, 0.4000, 0.8000,\n",
              "           0.6902, 0.5255, 0.5647, 0.4824, 0.0902, 0.0000, 0.0000, 0.0000,\n",
              "           0.0000, 0.0471, 0.0392, 0.0000],\n",
              "          [0.0000, 0.0000, 0.0000, 0.0000, 0.0000, 0.0000, 0.0000, 0.0000,\n",
              "           0.0000, 0.0000, 0.0000, 0.0000, 0.0000, 0.0000, 0.6078, 0.9255,\n",
              "           0.8118, 0.6980, 0.4196, 0.6118, 0.6314, 0.4275, 0.2510, 0.0902,\n",
              "           0.3020, 0.5098, 0.2824, 0.0588],\n",
              "          [0.0000, 0.0000, 0.0000, 0.0000, 0.0000, 0.0000, 0.0000, 0.0000,\n",
              "           0.0000, 0.0000, 0.0000, 0.0039, 0.0000, 0.2706, 0.8118, 0.8745,\n",
              "           0.8549, 0.8471, 0.8471, 0.6392, 0.4980, 0.4745, 0.4784, 0.5725,\n",
              "           0.5529, 0.3451, 0.6745, 0.2588],\n",
              "          [0.0000, 0.0000, 0.0000, 0.0000, 0.0000, 0.0000, 0.0000, 0.0000,\n",
              "           0.0000, 0.0039, 0.0039, 0.0039, 0.0000, 0.7843, 0.9098, 0.9098,\n",
              "           0.9137, 0.8980, 0.8745, 0.8745, 0.8431, 0.8353, 0.6431, 0.4980,\n",
              "           0.4824, 0.7686, 0.8980, 0.0000],\n",
              "          [0.0000, 0.0000, 0.0000, 0.0000, 0.0000, 0.0000, 0.0000, 0.0000,\n",
              "           0.0000, 0.0000, 0.0000, 0.0000, 0.0000, 0.7176, 0.8824, 0.8471,\n",
              "           0.8745, 0.8941, 0.9216, 0.8902, 0.8784, 0.8706, 0.8784, 0.8667,\n",
              "           0.8745, 0.9608, 0.6784, 0.0000],\n",
              "          [0.0000, 0.0000, 0.0000, 0.0000, 0.0000, 0.0000, 0.0000, 0.0000,\n",
              "           0.0000, 0.0000, 0.0000, 0.0000, 0.0000, 0.7569, 0.8941, 0.8549,\n",
              "           0.8353, 0.7765, 0.7059, 0.8314, 0.8235, 0.8275, 0.8353, 0.8745,\n",
              "           0.8627, 0.9529, 0.7922, 0.0000],\n",
              "          [0.0000, 0.0000, 0.0000, 0.0000, 0.0000, 0.0000, 0.0000, 0.0000,\n",
              "           0.0000, 0.0039, 0.0118, 0.0000, 0.0471, 0.8588, 0.8627, 0.8314,\n",
              "           0.8549, 0.7529, 0.6627, 0.8902, 0.8157, 0.8549, 0.8784, 0.8314,\n",
              "           0.8863, 0.7725, 0.8196, 0.2039],\n",
              "          [0.0000, 0.0000, 0.0000, 0.0000, 0.0000, 0.0000, 0.0000, 0.0000,\n",
              "           0.0000, 0.0000, 0.0235, 0.0000, 0.3882, 0.9569, 0.8706, 0.8627,\n",
              "           0.8549, 0.7961, 0.7765, 0.8667, 0.8431, 0.8353, 0.8706, 0.8627,\n",
              "           0.9608, 0.4667, 0.6549, 0.2196],\n",
              "          [0.0000, 0.0000, 0.0000, 0.0000, 0.0000, 0.0000, 0.0000, 0.0000,\n",
              "           0.0000, 0.0157, 0.0000, 0.0000, 0.2157, 0.9255, 0.8941, 0.9020,\n",
              "           0.8941, 0.9412, 0.9098, 0.8353, 0.8549, 0.8745, 0.9176, 0.8510,\n",
              "           0.8510, 0.8196, 0.3608, 0.0000],\n",
              "          [0.0000, 0.0000, 0.0039, 0.0157, 0.0235, 0.0275, 0.0078, 0.0000,\n",
              "           0.0000, 0.0000, 0.0000, 0.0000, 0.9294, 0.8863, 0.8510, 0.8745,\n",
              "           0.8706, 0.8588, 0.8706, 0.8667, 0.8471, 0.8745, 0.8980, 0.8431,\n",
              "           0.8549, 1.0000, 0.3020, 0.0000],\n",
              "          [0.0000, 0.0118, 0.0000, 0.0000, 0.0000, 0.0000, 0.0000, 0.0000,\n",
              "           0.0000, 0.2431, 0.5686, 0.8000, 0.8941, 0.8118, 0.8353, 0.8667,\n",
              "           0.8549, 0.8157, 0.8275, 0.8549, 0.8784, 0.8745, 0.8588, 0.8431,\n",
              "           0.8784, 0.9569, 0.6235, 0.0000],\n",
              "          [0.0000, 0.0000, 0.0000, 0.0000, 0.0706, 0.1725, 0.3216, 0.4196,\n",
              "           0.7412, 0.8941, 0.8627, 0.8706, 0.8510, 0.8863, 0.7843, 0.8039,\n",
              "           0.8275, 0.9020, 0.8784, 0.9176, 0.6902, 0.7373, 0.9804, 0.9725,\n",
              "           0.9137, 0.9333, 0.8431, 0.0000],\n",
              "          [0.0000, 0.2235, 0.7333, 0.8157, 0.8784, 0.8667, 0.8784, 0.8157,\n",
              "           0.8000, 0.8392, 0.8157, 0.8196, 0.7843, 0.6235, 0.9608, 0.7569,\n",
              "           0.8078, 0.8745, 1.0000, 1.0000, 0.8667, 0.9176, 0.8667, 0.8275,\n",
              "           0.8627, 0.9098, 0.9647, 0.0000],\n",
              "          [0.0118, 0.7922, 0.8941, 0.8784, 0.8667, 0.8275, 0.8275, 0.8392,\n",
              "           0.8039, 0.8039, 0.8039, 0.8627, 0.9412, 0.3137, 0.5882, 1.0000,\n",
              "           0.8980, 0.8667, 0.7373, 0.6039, 0.7490, 0.8235, 0.8000, 0.8196,\n",
              "           0.8706, 0.8941, 0.8824, 0.0000],\n",
              "          [0.3843, 0.9137, 0.7765, 0.8235, 0.8706, 0.8980, 0.8980, 0.9176,\n",
              "           0.9765, 0.8627, 0.7608, 0.8431, 0.8510, 0.9451, 0.2549, 0.2863,\n",
              "           0.4157, 0.4588, 0.6588, 0.8588, 0.8667, 0.8431, 0.8510, 0.8745,\n",
              "           0.8745, 0.8784, 0.8980, 0.1137],\n",
              "          [0.2941, 0.8000, 0.8314, 0.8000, 0.7569, 0.8039, 0.8275, 0.8824,\n",
              "           0.8471, 0.7255, 0.7725, 0.8078, 0.7765, 0.8353, 0.9412, 0.7647,\n",
              "           0.8902, 0.9608, 0.9373, 0.8745, 0.8549, 0.8314, 0.8196, 0.8706,\n",
              "           0.8627, 0.8667, 0.9020, 0.2627],\n",
              "          [0.1882, 0.7961, 0.7176, 0.7608, 0.8353, 0.7725, 0.7255, 0.7451,\n",
              "           0.7608, 0.7529, 0.7922, 0.8392, 0.8588, 0.8667, 0.8627, 0.9255,\n",
              "           0.8824, 0.8471, 0.7804, 0.8078, 0.7294, 0.7098, 0.6941, 0.6745,\n",
              "           0.7098, 0.8039, 0.8078, 0.4510],\n",
              "          [0.0000, 0.4784, 0.8588, 0.7569, 0.7020, 0.6706, 0.7176, 0.7686,\n",
              "           0.8000, 0.8235, 0.8353, 0.8118, 0.8275, 0.8235, 0.7843, 0.7686,\n",
              "           0.7608, 0.7490, 0.7647, 0.7490, 0.7765, 0.7529, 0.6902, 0.6118,\n",
              "           0.6549, 0.6941, 0.8235, 0.3608],\n",
              "          [0.0000, 0.0000, 0.2902, 0.7412, 0.8314, 0.7490, 0.6863, 0.6745,\n",
              "           0.6863, 0.7098, 0.7255, 0.7373, 0.7412, 0.7373, 0.7569, 0.7765,\n",
              "           0.8000, 0.8196, 0.8235, 0.8235, 0.8275, 0.7373, 0.7373, 0.7608,\n",
              "           0.7529, 0.8471, 0.6667, 0.0000],\n",
              "          [0.0078, 0.0000, 0.0000, 0.0000, 0.2588, 0.7843, 0.8706, 0.9294,\n",
              "           0.9373, 0.9490, 0.9647, 0.9529, 0.9569, 0.8667, 0.8627, 0.7569,\n",
              "           0.7490, 0.7020, 0.7137, 0.7137, 0.7098, 0.6902, 0.6510, 0.6588,\n",
              "           0.3882, 0.2275, 0.0000, 0.0000],\n",
              "          [0.0000, 0.0000, 0.0000, 0.0000, 0.0000, 0.0000, 0.0000, 0.1569,\n",
              "           0.2392, 0.1725, 0.2824, 0.1608, 0.1373, 0.0000, 0.0000, 0.0000,\n",
              "           0.0000, 0.0000, 0.0000, 0.0000, 0.0000, 0.0000, 0.0000, 0.0000,\n",
              "           0.0000, 0.0000, 0.0000, 0.0000],\n",
              "          [0.0000, 0.0000, 0.0000, 0.0000, 0.0000, 0.0000, 0.0000, 0.0000,\n",
              "           0.0000, 0.0000, 0.0000, 0.0000, 0.0000, 0.0000, 0.0000, 0.0000,\n",
              "           0.0000, 0.0000, 0.0000, 0.0000, 0.0000, 0.0000, 0.0000, 0.0000,\n",
              "           0.0000, 0.0000, 0.0000, 0.0000],\n",
              "          [0.0000, 0.0000, 0.0000, 0.0000, 0.0000, 0.0000, 0.0000, 0.0000,\n",
              "           0.0000, 0.0000, 0.0000, 0.0000, 0.0000, 0.0000, 0.0000, 0.0000,\n",
              "           0.0000, 0.0000, 0.0000, 0.0000, 0.0000, 0.0000, 0.0000, 0.0000,\n",
              "           0.0000, 0.0000, 0.0000, 0.0000]]]),\n",
              " 9)"
            ]
          },
          "metadata": {},
          "execution_count": 4
        }
      ],
      "source": [
        "image, label = trainDataset[0]\n",
        "image,label"
      ]
    },
    {
      "cell_type": "code",
      "execution_count": 5,
      "metadata": {
        "colab": {
          "base_uri": "https://localhost:8080/"
        },
        "id": "YWsgvAJ4qLma",
        "outputId": "5377e2bf-b5f6-4167-e037-6e0af3fe69d8"
      },
      "outputs": [
        {
          "output_type": "execute_result",
          "data": {
            "text/plain": [
              "['T-shirt/top',\n",
              " 'Trouser',\n",
              " 'Pullover',\n",
              " 'Dress',\n",
              " 'Coat',\n",
              " 'Sandal',\n",
              " 'Shirt',\n",
              " 'Sneaker',\n",
              " 'Bag',\n",
              " 'Ankle boot']"
            ]
          },
          "metadata": {},
          "execution_count": 5
        }
      ],
      "source": [
        "classNames = trainDataset.classes\n",
        "classNames"
      ]
    },
    {
      "cell_type": "code",
      "execution_count": 6,
      "metadata": {
        "colab": {
          "base_uri": "https://localhost:8080/"
        },
        "id": "ynqhsfW9qdq0",
        "outputId": "0364cf8a-c7af-44a6-cd36-668f118c3466"
      },
      "outputs": [
        {
          "output_type": "execute_result",
          "data": {
            "text/plain": [
              "{'T-shirt/top': 0,\n",
              " 'Trouser': 1,\n",
              " 'Pullover': 2,\n",
              " 'Dress': 3,\n",
              " 'Coat': 4,\n",
              " 'Sandal': 5,\n",
              " 'Shirt': 6,\n",
              " 'Sneaker': 7,\n",
              " 'Bag': 8,\n",
              " 'Ankle boot': 9}"
            ]
          },
          "metadata": {},
          "execution_count": 6
        }
      ],
      "source": [
        "classToIdx = trainDataset.class_to_idx\n",
        "classToIdx"
      ]
    },
    {
      "cell_type": "markdown",
      "metadata": {
        "id": "4mKsOJuiu5zC"
      },
      "source": [
        "### Checking Image and Label Shape"
      ]
    },
    {
      "cell_type": "code",
      "execution_count": 7,
      "metadata": {
        "colab": {
          "base_uri": "https://localhost:8080/"
        },
        "id": "fsD-vK0dqi2Q",
        "outputId": "9e83b05c-bd94-4cdc-d93a-44794379d00d"
      },
      "outputs": [
        {
          "output_type": "execute_result",
          "data": {
            "text/plain": [
              "(torch.Size([1, 28, 28]), 9)"
            ]
          },
          "metadata": {},
          "execution_count": 7
        }
      ],
      "source": [
        "image.shape, label"
      ]
    },
    {
      "cell_type": "markdown",
      "metadata": {
        "id": "wSkpaiP0vxnv"
      },
      "source": [
        "### Visualizing "
      ]
    },
    {
      "cell_type": "code",
      "execution_count": 8,
      "metadata": {
        "colab": {
          "base_uri": "https://localhost:8080/",
          "height": 428
        },
        "id": "nKmw8Vemqshx",
        "outputId": "acb50395-8639-48b6-8bc4-19f42b706403"
      },
      "outputs": [
        {
          "output_type": "display_data",
          "data": {
            "text/plain": [
              "<Figure size 640x480 with 1 Axes>"
            ],
            "image/png": "[encoded data removed]"
          },
          "metadata": {}
        }
      ],
      "source": [
        "plt.imshow(image.squeeze(), cmap=\"gray\")\n",
        "plt.title(classNames[label])\n",
        "plt.axis(False);"
      ]
    },
    {
      "cell_type": "code",
      "execution_count": 9,
      "metadata": {
        "colab": {
          "base_uri": "https://localhost:8080/",
          "height": 663
        },
        "id": "qUWCQ5omv9Zu",
        "outputId": "08523e10-341c-4df7-e567-7eca0ab95e33"
      },
      "outputs": [
        {
          "output_type": "display_data",
          "data": {
            "text/plain": [
              "<Figure size 900x900 with 16 Axes>"
            ],
            "image/png": "[encoded data removed]"
          },
          "metadata": {}
        }
      ],
      "source": [
        "torch.manual_seed(42)\n",
        "fig = plt.figure(figsize=(9,9))\n",
        "rows, cols =  4,4\n",
        "for i in range(1, rows*cols+1):\n",
        "  randomIdx = torch.randint(0, len(trainDataset), size=[1]).item()\n",
        "  img,label = trainDataset[randomIdx]\n",
        "  fig.add_subplot(rows,cols,i)\n",
        "  plt.imshow(img.squeeze(), cmap=\"gray\")\n",
        "  plt.title(classNames[label])\n",
        "  plt.axis(False);"
      ]
    },
    {
      "cell_type": "code",
      "execution_count": 10,
      "metadata": {
        "colab": {
          "base_uri": "https://localhost:8080/"
        },
        "id": "g9Khg72mxGVt",
        "outputId": "559f451c-755e-4c68-85c6-af22437b7231"
      },
      "outputs": [
        {
          "output_type": "execute_result",
          "data": {
            "text/plain": [
              "(<torch.utils.data.dataloader.DataLoader at 0x7f2a0c5e68f0>,\n",
              " <torch.utils.data.dataloader.DataLoader at 0x7f2a0c5e7cd0>)"
            ]
          },
          "metadata": {},
          "execution_count": 10
        }
      ],
      "source": [
        "## Preparing dataloader\n",
        "\n",
        "from torch.utils.data import DataLoader\n",
        "\n",
        "# set batch size\n",
        "BATCH_SIZE = 32\n",
        "\n",
        "# dataLoading...\n",
        "trainDataloader = DataLoader(trainDataset, batch_size=BATCH_SIZE, shuffle=True)\n",
        "\n",
        "testDataloader = DataLoader(testDataset, batch_size=BATCH_SIZE, shuffle=False)\n",
        "\n",
        "testDataloader, trainDataloader"
      ]
    },
    {
      "cell_type": "code",
      "execution_count": 11,
      "metadata": {
        "colab": {
          "base_uri": "https://localhost:8080/"
        },
        "id": "3X4B4e8p1QI7",
        "outputId": "549e3681-c3e0-4811-f896-c08153fdb9e5"
      },
      "outputs": [
        {
          "output_type": "execute_result",
          "data": {
            "text/plain": [
              "(1875, 313)"
            ]
          },
          "metadata": {},
          "execution_count": 11
        }
      ],
      "source": [
        "len(trainDataloader), len(testDataloader)"
      ]
    },
    {
      "cell_type": "code",
      "execution_count": 12,
      "metadata": {
        "colab": {
          "base_uri": "https://localhost:8080/"
        },
        "id": "jQwQ5n-Z2gw-",
        "outputId": "9aae1d65-344c-40e5-a678-c0ce29d5d60c"
      },
      "outputs": [
        {
          "output_type": "execute_result",
          "data": {
            "text/plain": [
              "(torch.Size([32, 1, 28, 28]), torch.Size([32]))"
            ]
          },
          "metadata": {},
          "execution_count": 12
        }
      ],
      "source": [
        "trainXBatch, trainYBatch = next(iter(trainDataloader))\n",
        "trainXBatch.shape, trainYBatch.shape"
      ]
    },
    {
      "cell_type": "code",
      "execution_count": 13,
      "metadata": {
        "colab": {
          "base_uri": "https://localhost:8080/",
          "height": 428
        },
        "id": "raQouR8P3PDv",
        "outputId": "6394f9dd-d7cc-4dcd-8036-49fd1dfda4e5"
      },
      "outputs": [
        {
          "output_type": "display_data",
          "data": {
            "text/plain": [
              "<Figure size 640x480 with 1 Axes>"
            ],
            "image/png": "[encoded data removed]"
          },
          "metadata": {}
        }
      ],
      "source": [
        "# Show a sample\n",
        "torch.manual_seed(42)\n",
        "randomIdx = torch.randint(0, len(trainXBatch), size=[1]).item()\n",
        "img, label = trainXBatch[randomIdx], trainYBatch[randomIdx]\n",
        "plt.imshow(img.squeeze(),cmap=\"gray\")\n",
        "plt.title(classNames[label])\n",
        "plt.axis(False);"
      ]
    },
    {
      "cell_type": "markdown",
      "metadata": {
        "id": "1dXGQ6-n4RjC"
      },
      "source": [
        "## Modelling\n",
        "\n",
        "Model zero a.k.a baseline model...."
      ]
    },
    {
      "cell_type": "code",
      "execution_count": 14,
      "metadata": {
        "id": "IAoMb8cP5Dnb"
      },
      "outputs": [],
      "source": [
        "from torch import nn\n",
        "\n",
        "class TimsFashionModelV0(nn.Module):\n",
        "  def __init__(self, input_shape: int, hidden_units: int, output_shape: int):\n",
        "    super().__init__()\n",
        "    self.layerStack = nn.Sequential(\n",
        "        nn.Flatten(),\n",
        "        nn.Linear(in_features=input_shape, out_features=hidden_units),\n",
        "        nn.Linear(in_features=hidden_units, out_features=output_shape)\n",
        "    )\n",
        "\n",
        "  def forward(self,x):\n",
        "    return self.layerStack(x)"
      ]
    },
    {
      "cell_type": "code",
      "execution_count": 15,
      "metadata": {
        "colab": {
          "base_uri": "https://localhost:8080/"
        },
        "id": "Dt1wsCOY6WNh",
        "outputId": "d7c6c061-71f6-49c5-8546-ce30f0e311af"
      },
      "outputs": [
        {
          "output_type": "execute_result",
          "data": {
            "text/plain": [
              "TimsFashionModelV0(\n",
              "  (layerStack): Sequential(\n",
              "    (0): Flatten(start_dim=1, end_dim=-1)\n",
              "    (1): Linear(in_features=784, out_features=10, bias=True)\n",
              "    (2): Linear(in_features=10, out_features=10, bias=True)\n",
              "  )\n",
              ")"
            ]
          },
          "metadata": {},
          "execution_count": 15
        }
      ],
      "source": [
        "torch.manual_seed(42)\n",
        "\n",
        "# setup model\n",
        "model0 = TimsFashionModelV0(input_shape = 784, hidden_units=10,output_shape=len(classNames)).to(\"cpu\")\n",
        "\n",
        "model0"
      ]
    },
    {
      "cell_type": "code",
      "execution_count": 16,
      "metadata": {
        "colab": {
          "base_uri": "https://localhost:8080/"
        },
        "id": "-M9ZfeOR6y8J",
        "outputId": "ba34480d-82b9-42d5-c763-d1aafab42082"
      },
      "outputs": [
        {
          "output_type": "execute_result",
          "data": {
            "text/plain": [
              "tensor([[-0.0315,  0.3171,  0.0531, -0.2525,  0.5959,  0.2112,  0.3233,  0.2694,\n",
              "         -0.1004,  0.0157]], grad_fn=<AddmmBackward0>)"
            ]
          },
          "metadata": {},
          "execution_count": 16
        }
      ],
      "source": [
        "fakeX = torch.rand([1,1,28,28])\n",
        "model0(fakeX)"
      ]
    },
    {
      "cell_type": "code",
      "execution_count": 17,
      "metadata": {
        "colab": {
          "base_uri": "https://localhost:8080/"
        },
        "id": "UtAtjEKG66bg",
        "outputId": "5ccd10de-75f1-4c2e-adb3-ffcf53a56c5e"
      },
      "outputs": [
        {
          "output_type": "execute_result",
          "data": {
            "text/plain": [
              "OrderedDict([('layerStack.1.weight',\n",
              "              tensor([[ 0.0273,  0.0296, -0.0084,  ..., -0.0142,  0.0093,  0.0135],\n",
              "                      [-0.0188, -0.0354,  0.0187,  ..., -0.0106, -0.0001,  0.0115],\n",
              "                      [-0.0008,  0.0017,  0.0045,  ..., -0.0127, -0.0188,  0.0059],\n",
              "                      ...,\n",
              "                      [-0.0116,  0.0273, -0.0344,  ...,  0.0176,  0.0283, -0.0011],\n",
              "                      [-0.0230,  0.0257,  0.0291,  ..., -0.0187, -0.0087,  0.0001],\n",
              "                      [ 0.0176, -0.0147,  0.0053,  ..., -0.0336, -0.0221,  0.0205]])),\n",
              "             ('layerStack.1.bias',\n",
              "              tensor([-0.0093,  0.0283, -0.0033,  0.0255,  0.0017,  0.0037, -0.0302, -0.0123,\n",
              "                       0.0018,  0.0163])),\n",
              "             ('layerStack.2.weight',\n",
              "              tensor([[ 0.0614, -0.0687,  0.0021,  0.2718,  0.2109,  0.1079, -0.2279, -0.1063,\n",
              "                        0.2019,  0.2847],\n",
              "                      [-0.1495,  0.1344, -0.0740,  0.2006, -0.0475, -0.2514, -0.3130, -0.0118,\n",
              "                        0.0932, -0.1864],\n",
              "                      [ 0.2488,  0.1500,  0.1907,  0.1457, -0.3050, -0.0580,  0.1643,  0.1565,\n",
              "                       -0.2877, -0.1792],\n",
              "                      [ 0.2305, -0.2618,  0.2397, -0.0610,  0.0232,  0.1542,  0.0851, -0.2027,\n",
              "                        0.1030, -0.2715],\n",
              "                      [-0.1596, -0.0555, -0.0633,  0.2302, -0.1726,  0.2654,  0.1473,  0.1029,\n",
              "                        0.2252, -0.2160],\n",
              "                      [-0.2725,  0.0118,  0.1559,  0.1596,  0.0132,  0.3024,  0.1124,  0.1366,\n",
              "                       -0.1533,  0.0965],\n",
              "                      [-0.1184, -0.2555, -0.2057, -0.1909, -0.0477, -0.1324,  0.2905,  0.1307,\n",
              "                       -0.2629,  0.0133],\n",
              "                      [ 0.2727, -0.0127,  0.0513,  0.0863, -0.1043, -0.2047, -0.1185, -0.0825,\n",
              "                        0.2488, -0.2571],\n",
              "                      [ 0.0425, -0.1209, -0.0336, -0.0281, -0.1227,  0.0730,  0.0747, -0.1816,\n",
              "                        0.1943,  0.2853],\n",
              "                      [-0.1310,  0.0645, -0.1171,  0.2168, -0.0245, -0.2820,  0.0736,  0.2621,\n",
              "                        0.0012, -0.0810]])),\n",
              "             ('layerStack.2.bias',\n",
              "              tensor([-0.0087,  0.1791,  0.2712, -0.0791,  0.1685,  0.1762,  0.2825,  0.2266,\n",
              "                      -0.2612, -0.2613]))])"
            ]
          },
          "metadata": {},
          "execution_count": 17
        }
      ],
      "source": [
        "model0.state_dict()"
      ]
    },
    {
      "cell_type": "markdown",
      "metadata": {
        "id": "X1osET87AoU1"
      },
      "source": [
        "### Setup loss, optimizer and evaluation metrics"
      ]
    },
    {
      "cell_type": "code",
      "execution_count": 18,
      "metadata": {
        "colab": {
          "base_uri": "https://localhost:8080/"
        },
        "id": "1lTZ5nAP_8u_",
        "outputId": "6863d318-1502-463e-d3ca-bf76bca7ca5f"
      },
      "outputs": [
        {
          "output_type": "stream",
          "name": "stdout",
          "text": [
            "Looking in indexes: https://pypi.org/simple, https://us-python.pkg.dev/colab-wheels/public/simple/\n",
            "Requirement already satisfied: torchmetrics in /usr/local/lib/python3.10/dist-packages (0.11.4)\n",
            "Requirement already satisfied: numpy>=1.17.2 in /usr/local/lib/python3.10/dist-packages (from torchmetrics) (1.22.4)\n",
            "Requirement already satisfied: torch>=1.8.1 in /usr/local/lib/python3.10/dist-packages (from torchmetrics) (2.0.1+cu118)\n",
            "Requirement already satisfied: packaging in /usr/local/lib/python3.10/dist-packages (from torchmetrics) (23.1)\n",
            "Requirement already satisfied: filelock in /usr/local/lib/python3.10/dist-packages (from torch>=1.8.1->torchmetrics) (3.12.0)\n",
            "Requirement already satisfied: typing-extensions in /usr/local/lib/python3.10/dist-packages (from torch>=1.8.1->torchmetrics) (4.5.0)\n",
            "Requirement already satisfied: sympy in /usr/local/lib/python3.10/dist-packages (from torch>=1.8.1->torchmetrics) (1.11.1)\n",
            "Requirement already satisfied: networkx in /usr/local/lib/python3.10/dist-packages (from torch>=1.8.1->torchmetrics) (3.1)\n",
            "Requirement already satisfied: jinja2 in /usr/local/lib/python3.10/dist-packages (from torch>=1.8.1->torchmetrics) (3.1.2)\n",
            "Requirement already satisfied: triton==2.0.0 in /usr/local/lib/python3.10/dist-packages (from torch>=1.8.1->torchmetrics) (2.0.0)\n",
            "Requirement already satisfied: cmake in /usr/local/lib/python3.10/dist-packages (from triton==2.0.0->torch>=1.8.1->torchmetrics) (3.25.2)\n",
            "Requirement already satisfied: lit in /usr/local/lib/python3.10/dist-packages (from triton==2.0.0->torch>=1.8.1->torchmetrics) (16.0.5)\n",
            "Requirement already satisfied: MarkupSafe>=2.0 in /usr/local/lib/python3.10/dist-packages (from jinja2->torch>=1.8.1->torchmetrics) (2.1.2)\n",
            "Requirement already satisfied: mpmath>=0.19 in /usr/local/lib/python3.10/dist-packages (from sympy->torch>=1.8.1->torchmetrics) (1.3.0)\n"
          ]
        }
      ],
      "source": [
        "!pip install torchmetrics\n",
        "from torchmetrics import Accuracy"
      ]
    },
    {
      "cell_type": "code",
      "execution_count": 19,
      "metadata": {
        "id": "08eWhD0PBOLO"
      },
      "outputs": [],
      "source": [
        "optim = torch.optim.SGD(params=model0.parameters(),lr=0.1)\n",
        "lossFn = nn.CrossEntropyLoss()"
      ]
    },
    {
      "cell_type": "markdown",
      "metadata": {
        "id": "kAO-m0bjBvmm"
      },
      "source": [
        "### Timing our experiments"
      ]
    },
    {
      "cell_type": "code",
      "execution_count": 20,
      "metadata": {
        "id": "btd7263xBklH"
      },
      "outputs": [],
      "source": [
        "from timeit import default_timer as timer"
      ]
    },
    {
      "cell_type": "code",
      "execution_count": 21,
      "metadata": {
        "id": "Ah2eOcOuB4Ow"
      },
      "outputs": [],
      "source": [
        "def printTrainTime(start:float, end:float, device: torch.device = None):\n",
        "  '''\n",
        "    Prints difference between start and end time\n",
        "  '''\n",
        "\n",
        "  totalTime = end - start\n",
        "  print(f\"train time is {totalTime:.3f}\")\n",
        "  return totalTime"
      ]
    },
    {
      "cell_type": "code",
      "execution_count": 22,
      "metadata": {
        "colab": {
          "base_uri": "https://localhost:8080/"
        },
        "id": "kAKHdPuYCVu2",
        "outputId": "b0af0e36-1217-4e1a-ede8-123727c7472d"
      },
      "outputs": [
        {
          "output_type": "stream",
          "name": "stdout",
          "text": [
            "train time is 0.000\n"
          ]
        },
        {
          "output_type": "execute_result",
          "data": {
            "text/plain": [
              "3.347500000927539e-05"
            ]
          },
          "metadata": {},
          "execution_count": 22
        }
      ],
      "source": [
        "st = timer()\n",
        "et = timer()\n",
        "printTrainTime(st,et)"
      ]
    },
    {
      "cell_type": "markdown",
      "metadata": {
        "id": "X27-T3GJ1s_M"
      },
      "source": [
        "### Model Training loop"
      ]
    },
    {
      "cell_type": "code",
      "execution_count": 23,
      "metadata": {
        "colab": {
          "base_uri": "https://localhost:8080/",
          "height": 1000,
          "referenced_widgets": [
            "be2fb09a61c54f2281f9593ce4871d09",
            "bcac2ec1fc2c443283c7d374cc13ff0d",
            "f52d58a7df75437db2bdfa0769661aa4",
            "fada5d5a80d44a78ba1d44ea9eee5e5f",
            "34a627c8b9904fd9b960c56de970387a",
            "34aa867c48d34af4a19d072e953650b5",
            "03f175ffc23c41618bc39c82296ea11a",
            "6b8bf4033df44caea0095d557c234d78",
            "bc4f2c15434349cc8ec6d02fea03d765",
            "52f6ee10609b4070a7392a30d5f27362",
            "c82d77fcc9d14666bd917f44d6be4947"
          ]
        },
        "id": "oGsCz7UGCirN",
        "outputId": "c6bde1b4-cdf9-413c-8fec-c770c9867bd2"
      },
      "outputs": [
        {
          "output_type": "display_data",
          "data": {
            "text/plain": [
              "  0%|          | 0/10 [00:00<?, ?it/s]"
            ],
            "application/vnd.jupyter.widget-view+json": {
              "version_major": 2,
              "version_minor": 0,
              "model_id": "be2fb09a61c54f2281f9593ce4871d09"
            }
          },
          "metadata": {}
        },
        {
          "output_type": "stream",
          "name": "stdout",
          "text": [
            "Epoch : 0\n",
            "0/60000 samples\n",
            "12800/60000 samples\n",
            "25600/60000 samples\n",
            "38400/60000 samples\n",
            "51200/60000 samples\n",
            "Train loss : 0.5904 | Test loss : 0.5095 | Test Acc:0.8203873634338379\n",
            "Epoch : 1\n",
            "0/60000 samples\n",
            "12800/60000 samples\n",
            "25600/60000 samples\n",
            "38400/60000 samples\n",
            "51200/60000 samples\n",
            "Train loss : 0.4763 | Test loss : 0.4799 | Test Acc:0.8319688439369202\n",
            "Epoch : 2\n",
            "0/60000 samples\n",
            "12800/60000 samples\n",
            "25600/60000 samples\n",
            "38400/60000 samples\n",
            "51200/60000 samples\n",
            "Train loss : 0.4550 | Test loss : 0.4766 | Test Acc:0.8342651724815369\n",
            "Epoch : 3\n",
            "0/60000 samples\n",
            "12800/60000 samples\n",
            "25600/60000 samples\n",
            "38400/60000 samples\n",
            "51200/60000 samples\n",
            "Train loss : 0.4425 | Test loss : 0.4631 | Test Acc:0.8374600410461426\n",
            "Epoch : 4\n",
            "0/60000 samples\n",
            "12800/60000 samples\n",
            "25600/60000 samples\n",
            "38400/60000 samples\n",
            "51200/60000 samples\n",
            "Train loss : 0.4358 | Test loss : 0.4687 | Test Acc:0.8326677083969116\n",
            "Epoch : 5\n",
            "0/60000 samples\n",
            "12800/60000 samples\n",
            "25600/60000 samples\n",
            "38400/60000 samples\n",
            "51200/60000 samples\n",
            "Train loss : 0.4291 | Test loss : 0.4589 | Test Acc:0.836361825466156\n",
            "Epoch : 6\n",
            "0/60000 samples\n",
            "12800/60000 samples\n",
            "25600/60000 samples\n",
            "38400/60000 samples\n",
            "51200/60000 samples\n",
            "Train loss : 0.4248 | Test loss : 0.4877 | Test Acc:0.8331669569015503\n",
            "Epoch : 7\n",
            "0/60000 samples\n",
            "12800/60000 samples\n",
            "25600/60000 samples\n",
            "38400/60000 samples\n",
            "51200/60000 samples\n",
            "Train loss : 0.4227 | Test loss : 0.4722 | Test Acc:0.833765983581543\n",
            "Epoch : 8\n",
            "0/60000 samples\n",
            "12800/60000 samples\n",
            "25600/60000 samples\n",
            "38400/60000 samples\n",
            "51200/60000 samples\n",
            "Train loss : 0.4203 | Test loss : 0.4713 | Test Acc:0.8345646858215332\n",
            "Epoch : 9\n",
            "0/60000 samples\n",
            "12800/60000 samples\n",
            "25600/60000 samples\n",
            "38400/60000 samples\n",
            "51200/60000 samples\n",
            "Train loss : 0.4175 | Test loss : 0.4628 | Test Acc:0.8364616632461548\n",
            "train time is 152.179\n"
          ]
        }
      ],
      "source": [
        "from tqdm.auto import tqdm\n",
        "\n",
        "# set generator seed\n",
        "torch.manual_seed(42)\n",
        "\n",
        "trainTimeStart = timer()\n",
        "\n",
        "# number of epochs\n",
        "epochs = 10\n",
        "\n",
        "# Training and evaluation loop\n",
        "for epoch in tqdm(range(epochs)):\n",
        "  print(f\"Epoch : {epoch}\")\n",
        "\n",
        "  # training\n",
        "  trainLoss = 0\n",
        "\n",
        "  # loop through batches\n",
        "  for batch, (X,y) in enumerate(trainDataloader):\n",
        "    model0.train()\n",
        "\n",
        "    yPred = model0(X)\n",
        "\n",
        "    loss = lossFn(yPred, y)\n",
        "    trainLoss += loss\n",
        "\n",
        "    optim.zero_grad()\n",
        "\n",
        "    loss.backward()\n",
        "\n",
        "    optim.step()\n",
        "\n",
        "    if batch % 400 == 0:\n",
        "      print(f\"{batch * len(X)}/{len(trainDataloader.dataset)} samples\")\n",
        "\n",
        "  trainLoss /= len(trainDataloader)\n",
        "\n",
        "  # testing\n",
        "  testLoss = testAcc = 0\n",
        "  model0.eval()\n",
        "\n",
        "  with torch.inference_mode():\n",
        "    for xTest,yTest in testDataloader:\n",
        "      \n",
        "      testPred = model0(xTest)\n",
        "\n",
        "      testLoss += lossFn(testPred, yTest)\n",
        "\n",
        "      accuracy = Accuracy(task=\"multiclass\", num_classes=10)\n",
        "      testAcc += accuracy(testPred.argmax(dim=1), yTest)\n",
        "\n",
        "\n",
        "    testLoss /= len(testDataloader)\n",
        "\n",
        "    testAcc /= len(testDataloader)\n",
        "\n",
        "    print(f\"Train loss : {trainLoss:.4f} | Test loss : {testLoss:.4f} | Test Acc:{testAcc}\")\n",
        "\n",
        "trainTimeEnd = timer()\n",
        "\n",
        "totalTrainTime = printTrainTime(trainTimeStart,trainTimeEnd, str(next(model0.parameters()).device))\n",
        "\n",
        "\n"
      ]
    },
    {
      "cell_type": "code",
      "source": [
        "device = \"cuda\" if torch.cuda.is_available() else \"cpu\"\n",
        "device"
      ],
      "metadata": {
        "colab": {
          "base_uri": "https://localhost:8080/",
          "height": 35
        },
        "id": "mk5UHgIVNbu9",
        "outputId": "41faeab0-b8b9-49a5-ffbb-966c080ad785"
      },
      "execution_count": 24,
      "outputs": [
        {
          "output_type": "execute_result",
          "data": {
            "text/plain": [
              "'cuda'"
            ],
            "application/vnd.google.colaboratory.intrinsic+json": {
              "type": "string"
            }
          },
          "metadata": {},
          "execution_count": 24
        }
      ]
    },
    {
      "cell_type": "code",
      "execution_count": 25,
      "metadata": {
        "colab": {
          "base_uri": "https://localhost:8080/"
        },
        "id": "uOC12ESW9egy",
        "outputId": "52b11b21-da6a-4627-e72e-25ea3480d2ef"
      },
      "outputs": [
        {
          "output_type": "execute_result",
          "data": {
            "text/plain": [
              "{'modelName': 'TimsFashionModelV0',\n",
              " 'modelLoss': 0.46279820799827576,\n",
              " 'modelAcc': 0.8364616632461548}"
            ]
          },
          "metadata": {},
          "execution_count": 25
        }
      ],
      "source": [
        "torch.manual_seed(42)\n",
        "def evalModel(model : torch.nn.Module, dataLoader: torch.utils.data.DataLoader, lossFn: torch.nn.Module, accuracyFn, device=device):\n",
        "  '''\n",
        "    returns a dictionary containing the results of model predictions\n",
        "  '''\n",
        "\n",
        "  loss, acc = 0,0\n",
        "  model.eval()\n",
        "  with torch.inference_mode():\n",
        "    for X, y in dataLoader:\n",
        "      X,y = X.to(device), y.to(device)\n",
        "      yPred = model(X)\n",
        "      loss += lossFn(yPred, y)\n",
        "      acc += accuracyFn(yPred.argmax(dim=1),y)\n",
        "\n",
        "    loss /= len(dataLoader)\n",
        "    acc /= len(dataLoader)\n",
        "\n",
        "  return {\"modelName\": model.__class__.__name__,\n",
        "            \"modelLoss\" : loss.item(),\n",
        "            \"modelAcc\": acc.item()}\n",
        "\n",
        "model0Results = evalModel(model0, testDataloader, lossFn, accuracy,\"cpu\")\n",
        "model0Results\n",
        "\n"
      ]
    },
    {
      "cell_type": "markdown",
      "source": [
        "### Building Model with Non Linearity"
      ],
      "metadata": {
        "id": "cxm1v0YiNHJK"
      }
    },
    {
      "cell_type": "code",
      "execution_count": 26,
      "metadata": {
        "id": "x64Cyj3HGnFM"
      },
      "outputs": [],
      "source": [
        "class TimsFashionMNISTModelV1(nn.Module):\n",
        "  def __init__(self, input_shape: int, hidden_units : int, output_shape : int):\n",
        "    super().__init__()\n",
        "    self.layerStack = nn.Sequential(\n",
        "        nn.Flatten(),\n",
        "        nn.Linear(in_features=input_shape, out_features=hidden_units),\n",
        "        nn.ReLU(),\n",
        "        nn.Linear(in_features=hidden_units, out_features=output_shape),\n",
        "        nn.ReLU()\n",
        "    )\n",
        "\n",
        "  def forward(self, x:torch.Tensor):\n",
        "    return self.layerStack(x)"
      ]
    },
    {
      "cell_type": "code",
      "source": [
        "torch.manual_seed(42)\n",
        "model1 = TimsFashionMNISTModelV1(784,10,len(classNames)).to(device)"
      ],
      "metadata": {
        "id": "A1tRd1niPemn"
      },
      "execution_count": 27,
      "outputs": []
    },
    {
      "cell_type": "markdown",
      "source": [
        "### Setup Loss, optimizer and evaluation metrics"
      ],
      "metadata": {
        "id": "-vawevDDP0Wb"
      }
    },
    {
      "cell_type": "code",
      "source": [
        "lossFn = nn.CrossEntropyLoss().to(device)\n",
        "optimizer = torch.optim.SGD(params=model1.parameters(), lr=0.1)"
      ],
      "metadata": {
        "id": "GXFFJnMhPxGH"
      },
      "execution_count": 28,
      "outputs": []
    },
    {
      "cell_type": "markdown",
      "source": [
        "### Model Training and Evaluation Functions"
      ],
      "metadata": {
        "id": "CZV04n_5QLk7"
      }
    },
    {
      "cell_type": "code",
      "source": [
        "def trainStep(model : torch.nn.Module, dataLoader : torch.utils.data.DataLoader, lossFn : torch.nn.Module, optimizer : torch.optim.Optimizer, accuracyFn, device : torch.device = device):\n",
        "  trainLoss, trainAcc = 0,0\n",
        "\n",
        "  model.train()\n",
        "  for batch, (X,y) in enumerate(dataLoader):\n",
        "    X, y = X.to(device), y.to(device)\n",
        "\n",
        "    yPred = model(X)\n",
        "\n",
        "    loss = lossFn(yPred, y)\n",
        "\n",
        "    trainLoss += loss\n",
        "    trainAcc += accuracy(yPred.argmax(dim=1), y)\n",
        "\n",
        "    optimizer.zero_grad()\n",
        "\n",
        "    loss.backward()\n",
        "\n",
        "    optimizer.step()\n",
        "  \n",
        "\n",
        "    if batch % 400 == 0:\n",
        "      print(f\"Looked into {batch * len(X)}/{len(dataLoader.dataset)} samples\")\n",
        "\n",
        "  trainLoss /= len(dataLoader)\n",
        "  trainAcc /= len(dataLoader)\n",
        "  print(f\"Train Loss : {trainLoss:.5f} | Train Acc: {trainAcc:.5f}\")\n"
      ],
      "metadata": {
        "id": "hvBQ-GqXP5E1"
      },
      "execution_count": 29,
      "outputs": []
    },
    {
      "cell_type": "code",
      "source": [
        "def testStep(model : torch.nn.Module, dataLoader: torch.utils.data.DataLoader, lossFn: torch.nn.Module, accuracy, device : torch.device = device):\n",
        "  testLoss, testAcc = 0,0\n",
        "\n",
        "  model.eval()\n",
        "\n",
        "  with torch.inference_mode():\n",
        "    for X, y in dataLoader:\n",
        "      X, y = X.to(device), y.to(device)\n",
        "\n",
        "      yPred = model(X)\n",
        "\n",
        "      testLoss += lossFn(yPred, y)\n",
        "      testAcc += accuracy(yPred.argmax(dim=1), y)\n",
        "\n",
        "    testLoss /= len(dataLoader)\n",
        "    testAcc /= len(dataLoader)\n",
        "\n",
        "    print(f\"Test Loss : {testLoss:.5f} | Test Acc : {testAcc:.5f}\")"
      ],
      "metadata": {
        "id": "qpQxxkUWyh_D"
      },
      "execution_count": 30,
      "outputs": []
    },
    {
      "cell_type": "code",
      "source": [
        "torch.manual_seed(42)\n",
        "\n",
        "#Measuring time\n",
        "trainTimeStart = timer()\n",
        "\n",
        "epochs = 10\n",
        "\n",
        "# Training and evaluation loop with their functions\n",
        "for epoch in tqdm(range(epochs)):\n",
        "  print(f\"Epoch : {epoch}\")\n",
        "  \n",
        "  trainStep(model1, trainDataloader, lossFn, optimizer, accuracy.to(device))\n",
        "\n",
        "  testStep(model1, testDataloader, lossFn, accuracy)\n",
        "\n",
        "trainTimeEnd = timer()\n",
        "\n",
        "totalTrainTime = printTrainTime(start=trainTimeStart, end=trainTimeEnd, device=device)"
      ],
      "metadata": {
        "colab": {
          "base_uri": "https://localhost:8080/",
          "height": 1000,
          "referenced_widgets": [
            "6c13663b5a21432eb686ab57ad64054f",
            "3f2768c92075438e94907928bc547375",
            "763aea3d5a9c42b69fd7983f0f308549",
            "5704d5d221e140ca9d012664ff11bc46",
            "0ee74fbb23004b21a2708d47285e3776",
            "a806eef7d31f469d89c94fec1ad705ef",
            "60c8acae092f4ffda38c308e76c3ef71",
            "21c9cf9c532042eca7bba390b411aa9a",
            "647b95deae824403b6b6ad962e2be190",
            "b3a01c4278d34faebf99950c729da6f2",
            "82d1781c2a9048d6b39755587106ddf3"
          ]
        },
        "id": "Smmha9jb0WqJ",
        "outputId": "a6e479c6-6265-4655-bf40-9f7dc91f20b2"
      },
      "execution_count": 31,
      "outputs": [
        {
          "data": {
            "application/vnd.jupyter.widget-view+json": {
              "model_id": "6c13663b5a21432eb686ab57ad64054f",
              "version_major": 2,
              "version_minor": 0
            },
            "text/plain": [
              "  0%|          | 0/10 [00:00<?, ?it/s]"
            ]
          },
          "metadata": {},
          "output_type": "display_data"
        },
        {
          "output_type": "stream",
          "name": "stdout",
          "text": [
            "Epoch : 0\n",
            "Looked into 0/60000 samples\n",
            "Looked into 12800/60000 samples\n",
            "Looked into 25600/60000 samples\n",
            "Looked into 38400/60000 samples\n",
            "Looked into 51200/60000 samples\n",
            "Train Loss : 1.09199 | Train Acc: 0.61343\n",
            "Test Loss : 0.95636 | Test Acc : 0.64996\n",
            "Epoch : 1\n",
            "Looked into 0/60000 samples\n",
            "Looked into 12800/60000 samples\n",
            "Looked into 25600/60000 samples\n",
            "Looked into 38400/60000 samples\n",
            "Looked into 51200/60000 samples\n",
            "Train Loss : 0.78101 | Train Acc: 0.71928\n",
            "Test Loss : 0.72227 | Test Acc : 0.73912\n",
            "Epoch : 2\n",
            "Looked into 0/60000 samples\n",
            "Looked into 12800/60000 samples\n",
            "Looked into 25600/60000 samples\n",
            "Looked into 38400/60000 samples\n",
            "Looked into 51200/60000 samples\n",
            "Train Loss : 0.67027 | Train Acc: 0.75937\n",
            "Test Loss : 0.68500 | Test Acc : 0.75020\n",
            "Epoch : 3\n",
            "Looked into 0/60000 samples\n",
            "Looked into 12800/60000 samples\n",
            "Looked into 25600/60000 samples\n",
            "Looked into 38400/60000 samples\n",
            "Looked into 51200/60000 samples\n",
            "Train Loss : 0.64384 | Train Acc: 0.76523\n",
            "Test Loss : 0.65079 | Test Acc : 0.76128\n",
            "Epoch : 4\n",
            "Looked into 0/60000 samples\n",
            "Looked into 12800/60000 samples\n",
            "Looked into 25600/60000 samples\n",
            "Looked into 38400/60000 samples\n",
            "Looked into 51200/60000 samples\n",
            "Train Loss : 0.62892 | Train Acc: 0.77002\n",
            "Test Loss : 0.65277 | Test Acc : 0.75948\n",
            "Epoch : 5\n",
            "Looked into 0/60000 samples\n",
            "Looked into 12800/60000 samples\n",
            "Looked into 25600/60000 samples\n",
            "Looked into 38400/60000 samples\n",
            "Looked into 51200/60000 samples\n",
            "Train Loss : 0.61569 | Train Acc: 0.77433\n",
            "Test Loss : 0.64517 | Test Acc : 0.76538\n",
            "Epoch : 6\n",
            "Looked into 0/60000 samples\n",
            "Looked into 12800/60000 samples\n",
            "Looked into 25600/60000 samples\n",
            "Looked into 38400/60000 samples\n",
            "Looked into 51200/60000 samples\n",
            "Train Loss : 0.60672 | Train Acc: 0.77798\n",
            "Test Loss : 0.62879 | Test Acc : 0.76667\n",
            "Epoch : 7\n",
            "Looked into 0/60000 samples\n",
            "Looked into 12800/60000 samples\n",
            "Looked into 25600/60000 samples\n",
            "Looked into 38400/60000 samples\n",
            "Looked into 51200/60000 samples\n",
            "Train Loss : 0.47136 | Train Acc: 0.83087\n",
            "Test Loss : 0.44768 | Test Acc : 0.84295\n",
            "Epoch : 8\n",
            "Looked into 0/60000 samples\n",
            "Looked into 12800/60000 samples\n",
            "Looked into 25600/60000 samples\n",
            "Looked into 38400/60000 samples\n",
            "Looked into 51200/60000 samples\n",
            "Train Loss : 0.39947 | Train Acc: 0.85960\n",
            "Test Loss : 0.44110 | Test Acc : 0.84754\n",
            "Epoch : 9\n",
            "Looked into 0/60000 samples\n",
            "Looked into 12800/60000 samples\n",
            "Looked into 25600/60000 samples\n",
            "Looked into 38400/60000 samples\n",
            "Looked into 51200/60000 samples\n",
            "Train Loss : 0.39380 | Train Acc: 0.86168\n",
            "Test Loss : 0.43291 | Test Acc : 0.84824\n",
            "train time is 166.638\n"
          ]
        }
      ]
    },
    {
      "cell_type": "code",
      "source": [
        "len(trainDataloader.dataset)"
      ],
      "metadata": {
        "colab": {
          "base_uri": "https://localhost:8080/"
        },
        "id": "q-ekiCak3Hqo",
        "outputId": "6fdb69cc-c62d-4981-9596-ab628c666e92"
      },
      "execution_count": 32,
      "outputs": [
        {
          "output_type": "execute_result",
          "data": {
            "text/plain": [
              "60000"
            ]
          },
          "metadata": {},
          "execution_count": 32
        }
      ]
    },
    {
      "cell_type": "code",
      "source": [
        "model0Results"
      ],
      "metadata": {
        "colab": {
          "base_uri": "https://localhost:8080/"
        },
        "id": "lfSgyNCU39dl",
        "outputId": "8447bd0e-e7ec-45fa-d024-0d1abb0c3d50"
      },
      "execution_count": 33,
      "outputs": [
        {
          "output_type": "execute_result",
          "data": {
            "text/plain": [
              "{'modelName': 'TimsFashionModelV0',\n",
              " 'modelLoss': 0.46279820799827576,\n",
              " 'modelAcc': 0.8364616632461548}"
            ]
          },
          "metadata": {},
          "execution_count": 33
        }
      ]
    },
    {
      "cell_type": "code",
      "source": [
        "model1Results = evalModel(model1, testDataloader, lossFn, accuracy)\n",
        "model1Results"
      ],
      "metadata": {
        "colab": {
          "base_uri": "https://localhost:8080/"
        },
        "id": "LS0HJ9qE6yPa",
        "outputId": "3fb03655-a029-432c-88c6-1685587401e2"
      },
      "execution_count": 34,
      "outputs": [
        {
          "output_type": "execute_result",
          "data": {
            "text/plain": [
              "{'modelName': 'TimsFashionMNISTModelV1',\n",
              " 'modelLoss': 0.43290942907333374,\n",
              " 'modelAcc': 0.8482428193092346}"
            ]
          },
          "metadata": {},
          "execution_count": 34
        }
      ]
    },
    {
      "cell_type": "markdown",
      "source": [
        "### Using CNN Models"
      ],
      "metadata": {
        "id": "rZ1qqVUY8DaM"
      }
    },
    {
      "cell_type": "code",
      "source": [
        "class TimsFashionMNISTModelV2(nn.Module):\n",
        "  '''\n",
        "    A CNN Model to predict Fashion MNIST dataset Images\n",
        "  '''\n",
        "\n",
        "  def __init__(self, inputShape : int, hiddenUnits : int, outputShape : int):\n",
        "    super().__init__()\n",
        "    self.convBlock1 = nn.Sequential(\n",
        "        nn.Conv2d(in_channels= inputShape,out_channels=hiddenUnits,stride=1,padding=1,kernel_size=3),\n",
        "        nn.ReLU(),\n",
        "        nn.Conv2d(in_channels=hiddenUnits, out_channels=hiddenUnits,kernel_size=3,stride=1,padding=1),\n",
        "        nn.ReLU(),\n",
        "        nn.MaxPool2d(kernel_size=2)\n",
        "    )\n",
        "\n",
        "    self.convBlock2 = nn.Sequential (\n",
        "        nn.Conv2d(in_channels=hiddenUnits, out_channels=hiddenUnits, kernel_size=3,stride=1,padding=1),\n",
        "        nn.ReLU(),\n",
        "        nn.Conv2d(in_channels=hiddenUnits, out_channels=hiddenUnits,kernel_size=3,stride=1,padding=1),\n",
        "        nn.ReLU(),\n",
        "        nn.MaxPool2d(kernel_size=2)\n",
        "    )\n",
        "\n",
        "    self.classifier = nn.Sequential(\n",
        "        nn.Flatten(),\n",
        "        nn.Linear(in_features=hiddenUnits*7*7,out_features=outputShape)\n",
        "    )\n",
        "\n",
        "  def forward(self, x):\n",
        "    x = self.convBlock1(x)\n",
        "    #print(f\"1st convo block shape: {x.shape}\")\n",
        "    x = self.convBlock2(x)\n",
        "    #print(f\"2st convo block shape: {x.shape}\")\n",
        "    x = self.classifier(x)\n",
        "    #print(f\"classifier block shape: {x.shape}\")\n",
        "    return x"
      ],
      "metadata": {
        "id": "LNreI6Mh7YvS"
      },
      "execution_count": 35,
      "outputs": []
    },
    {
      "cell_type": "code",
      "source": [
        "torch.manual_seed(42)\n",
        "model2 = TimsFashionMNISTModelV2(inputShape = 1, hiddenUnits=10,outputShape=len(classNames)).to(device)"
      ],
      "metadata": {
        "id": "Q5BEv2_jCf-L"
      },
      "execution_count": 36,
      "outputs": []
    },
    {
      "cell_type": "markdown",
      "source": [
        "### Testing model with dummy data"
      ],
      "metadata": {
        "id": "z7O17t_tHlmY"
      }
    },
    {
      "cell_type": "code",
      "source": [
        "randImg = torch.randn(size=(1,28,28))"
      ],
      "metadata": {
        "id": "IvkvaqzbG0sc"
      },
      "execution_count": 37,
      "outputs": []
    },
    {
      "cell_type": "code",
      "source": [
        "model2(randImg.unsqueeze(0).to(device))"
      ],
      "metadata": {
        "colab": {
          "base_uri": "https://localhost:8080/"
        },
        "id": "_5jROskoNdKz",
        "outputId": "e4b5115a-70da-4a5c-db8b-c2505c26fe42"
      },
      "execution_count": 38,
      "outputs": [
        {
          "output_type": "execute_result",
          "data": {
            "text/plain": [
              "tensor([[ 0.0366, -0.0940,  0.0686, -0.0485,  0.0068,  0.0290,  0.0132,  0.0084,\n",
              "         -0.0030, -0.0185]], device='cuda:0', grad_fn=<AddmmBackward0>)"
            ]
          },
          "metadata": {},
          "execution_count": 38
        }
      ]
    },
    {
      "cell_type": "markdown",
      "source": [
        "### Loss function and Optimizer"
      ],
      "metadata": {
        "id": "wpTn2U8BRbxU"
      }
    },
    {
      "cell_type": "code",
      "source": [
        "# Although its the same as before, I wish to get used to the code workflow\n",
        "\n",
        "lossFn = nn.CrossEntropyLoss()\n",
        "optimizer = torch.optim.SGD(params=model2.parameters(),lr=0.1)"
      ],
      "metadata": {
        "id": "PHYZpDBeOnX1"
      },
      "execution_count": 39,
      "outputs": []
    },
    {
      "cell_type": "markdown",
      "source": [
        "### Training CNN Model"
      ],
      "metadata": {
        "id": "OYpXw7h6SMXp"
      }
    },
    {
      "cell_type": "code",
      "source": [
        "torch.manual_seed(42)\n",
        "torch.cuda.manual_seed(42)\n",
        "\n",
        "trainTimeStart = timer()\n",
        "\n",
        "epochs = 10\n",
        "\n",
        "for epoch in tqdm(range(epochs)):\n",
        "  print(f\"Epoch : {epoch}\")\n",
        "\n",
        "  trainStep(model2, trainDataloader, lossFn, optimizer, accuracy)\n",
        "\n",
        "  testStep(model2,testDataloader,lossFn,accuracy)\n",
        "\n",
        "trainTimeEnd = timer()\n",
        "\n",
        "totalTrainTime = printTrainTime(start=trainTimeStart, end=trainTimeEnd, device=device)"
      ],
      "metadata": {
        "colab": {
          "base_uri": "https://localhost:8080/",
          "height": 1000,
          "referenced_widgets": [
            "5b8c5c08371f4199bc53b1e64b7343b0",
            "fa2d5cbbf3d644d7906cab1dd0e61dd4",
            "cfa0ebb608b945fb95f90e792b456ad5",
            "4cd75f875e3c44b384554922fba5e061",
            "a906ec607e6b417a98416f082c3fb924",
            "f63a4a3833bd4209aa949d1619c3ac28",
            "4435ea8960cf4c6188dc315dc7a25022",
            "2cda3559aea041a5aafbed576758086b",
            "551db9e842e4471ab37f29a3391c62a7",
            "29b28aeb2a6040df9b0994f748eaa6a0",
            "06769596f5784ac2950d716e88f82779"
          ]
        },
        "id": "QwcH8AnhSIbf",
        "outputId": "5ba7e511-b041-4164-c970-36007d274115"
      },
      "execution_count": 40,
      "outputs": [
        {
          "output_type": "display_data",
          "data": {
            "text/plain": [
              "  0%|          | 0/10 [00:00<?, ?it/s]"
            ],
            "application/vnd.jupyter.widget-view+json": {
              "version_major": 2,
              "version_minor": 0,
              "model_id": "5b8c5c08371f4199bc53b1e64b7343b0"
            }
          },
          "metadata": {}
        },
        {
          "output_type": "stream",
          "name": "stdout",
          "text": [
            "Epoch : 0\n",
            "Looked into 0/60000 samples\n",
            "Looked into 12800/60000 samples\n",
            "Looked into 25600/60000 samples\n",
            "Looked into 38400/60000 samples\n",
            "Looked into 51200/60000 samples\n",
            "Train Loss : 0.59528 | Train Acc: 0.78377\n",
            "Test Loss : 0.39706 | Test Acc : 0.85533\n",
            "Epoch : 1\n",
            "Looked into 0/60000 samples\n",
            "Looked into 12800/60000 samples\n",
            "Looked into 25600/60000 samples\n",
            "Looked into 38400/60000 samples\n",
            "Looked into 51200/60000 samples\n",
            "Train Loss : 0.36120 | Train Acc: 0.87005\n",
            "Test Loss : 0.35322 | Test Acc : 0.86791\n",
            "Epoch : 2\n",
            "Looked into 0/60000 samples\n",
            "Looked into 12800/60000 samples\n",
            "Looked into 25600/60000 samples\n",
            "Looked into 38400/60000 samples\n",
            "Looked into 51200/60000 samples\n",
            "Train Loss : 0.32518 | Train Acc: 0.88142\n",
            "Test Loss : 0.32334 | Test Acc : 0.88169\n",
            "Epoch : 3\n",
            "Looked into 0/60000 samples\n",
            "Looked into 12800/60000 samples\n",
            "Looked into 25600/60000 samples\n",
            "Looked into 38400/60000 samples\n",
            "Looked into 51200/60000 samples\n",
            "Train Loss : 0.30359 | Train Acc: 0.88910\n",
            "Test Loss : 0.31268 | Test Acc : 0.88279\n",
            "Epoch : 4\n",
            "Looked into 0/60000 samples\n",
            "Looked into 12800/60000 samples\n",
            "Looked into 25600/60000 samples\n",
            "Looked into 38400/60000 samples\n",
            "Looked into 51200/60000 samples\n",
            "Train Loss : 0.29099 | Train Acc: 0.89345\n",
            "Test Loss : 0.30297 | Test Acc : 0.89028\n",
            "Epoch : 5\n",
            "Looked into 0/60000 samples\n",
            "Looked into 12800/60000 samples\n",
            "Looked into 25600/60000 samples\n",
            "Looked into 38400/60000 samples\n",
            "Looked into 51200/60000 samples\n",
            "Train Loss : 0.28033 | Train Acc: 0.89757\n",
            "Test Loss : 0.31434 | Test Acc : 0.88808\n",
            "Epoch : 6\n",
            "Looked into 0/60000 samples\n",
            "Looked into 12800/60000 samples\n",
            "Looked into 25600/60000 samples\n",
            "Looked into 38400/60000 samples\n",
            "Looked into 51200/60000 samples\n",
            "Train Loss : 0.27145 | Train Acc: 0.90170\n",
            "Test Loss : 0.31781 | Test Acc : 0.88678\n",
            "Epoch : 7\n",
            "Looked into 0/60000 samples\n",
            "Looked into 12800/60000 samples\n",
            "Looked into 25600/60000 samples\n",
            "Looked into 38400/60000 samples\n",
            "Looked into 51200/60000 samples\n",
            "Train Loss : 0.26706 | Train Acc: 0.90297\n",
            "Test Loss : 0.30633 | Test Acc : 0.88888\n",
            "Epoch : 8\n",
            "Looked into 0/60000 samples\n",
            "Looked into 12800/60000 samples\n",
            "Looked into 25600/60000 samples\n",
            "Looked into 38400/60000 samples\n",
            "Looked into 51200/60000 samples\n",
            "Train Loss : 0.25953 | Train Acc: 0.90587\n",
            "Test Loss : 0.31085 | Test Acc : 0.88928\n",
            "Epoch : 9\n",
            "Looked into 0/60000 samples\n",
            "Looked into 12800/60000 samples\n",
            "Looked into 25600/60000 samples\n",
            "Looked into 38400/60000 samples\n",
            "Looked into 51200/60000 samples\n",
            "Train Loss : 0.25636 | Train Acc: 0.90657\n",
            "Test Loss : 0.30233 | Test Acc : 0.89387\n",
            "train time is 156.422\n"
          ]
        }
      ]
    },
    {
      "cell_type": "code",
      "source": [
        "model2Results = evalModel(model2,testDataloader,lossFn,accuracy)\n",
        "model2Results "
      ],
      "metadata": {
        "id": "Mh2uymcvTWYl"
      },
      "execution_count": null,
      "outputs": []
    },
    {
      "cell_type": "markdown",
      "source": [
        "## Compare models"
      ],
      "metadata": {
        "id": "QNtg5nqjU4Eo"
      }
    },
    {
      "cell_type": "code",
      "source": [
        "import pandas as pd\n",
        "compareResults = pd.DataFrame([model0Results,model1Results,model2Results])"
      ],
      "metadata": {
        "id": "SWKvQ1uWUcyp"
      },
      "execution_count": null,
      "outputs": []
    },
    {
      "cell_type": "code",
      "source": [
        "compareResults"
      ],
      "metadata": {
        "id": "odnrEZovVEI6"
      },
      "execution_count": null,
      "outputs": []
    },
    {
      "cell_type": "code",
      "source": [
        "compareResults.set_index('modelName')[\"modelAcc\"].plot(kind=\"barh\")\n",
        "plt.xlabel(\"accuracy (Scale: 0-1)\")\n",
        "plt.ylabel(\"model\")"
      ],
      "metadata": {
        "id": "BlE2r_yjVJlg"
      },
      "execution_count": null,
      "outputs": []
    },
    {
      "cell_type": "markdown",
      "source": [
        "## Evaluate with random predictions"
      ],
      "metadata": {
        "id": "XzSLLxQiWxhA"
      }
    },
    {
      "cell_type": "code",
      "source": [
        "def makePredictions(model : torch.nn.Module, data : list, device : torch.device = device):\n",
        "  predProbs = []\n",
        "  model.eval()\n",
        "\n",
        "  with torch.inference_mode():\n",
        "    for sample in data:\n",
        "      sample = torch.unsqueeze(sample, dim=0).to(device)\n",
        "\n",
        "      predLogit = model(sample)\n",
        "\n",
        "      predProb = torch.softmax(predLogit.squeeze(), dim=0)\n",
        "\n",
        "      predProbs.append(predProb.cpu())\n",
        "\n",
        "    return torch.stack(predProbs)"
      ],
      "metadata": {
        "id": "ZlVSvT-FWXOc"
      },
      "execution_count": null,
      "outputs": []
    },
    {
      "cell_type": "code",
      "source": [
        "import random\n",
        "random.seed(42)\n",
        "testSamples = []\n",
        "testLabels = []\n",
        "\n",
        "for sample, label in random.sample(list(testDataset), k=9):\n",
        "  testSamples.append(sample)\n",
        "  testLabels.append(label)\n",
        "\n",
        "testSamples[0].shape"
      ],
      "metadata": {
        "colab": {
          "base_uri": "https://localhost:8080/"
        },
        "id": "eQUVdKjZY35H",
        "outputId": "a53af0b6-593b-41b4-a29c-acc62474e7b6"
      },
      "execution_count": 46,
      "outputs": [
        {
          "data": {
            "text/plain": [
              "torch.Size([1, 28, 28])"
            ]
          },
          "execution_count": 46,
          "metadata": {},
          "output_type": "execute_result"
        }
      ]
    },
    {
      "cell_type": "code",
      "source": [
        "plt.imshow(testSamples[0].squeeze(), cmap=\"gray\")\n",
        "plt.title(classNames[testLabels[0]]);"
      ],
      "metadata": {
        "colab": {
          "base_uri": "https://localhost:8080/",
          "height": 452
        },
        "id": "qCnNQJxEaQsc",
        "outputId": "6f24fcb9-2c3b-4a70-9f5f-1db3a7ee4ddc"
      },
      "execution_count": 47,
      "outputs": [
        {
          "data": {
            "image/png": "[encoded data removed]",
            "text/plain": [
              "<Figure size 640x480 with 1 Axes>"
            ]
          },
          "metadata": {},
          "output_type": "display_data"
        }
      ]
    },
    {
      "cell_type": "code",
      "source": [
        "# Making predictions\n",
        "predProbs = makePredictions(model=model2, data=testSamples)"
      ],
      "metadata": {
        "id": "DXhxzDPCaZln"
      },
      "execution_count": 48,
      "outputs": []
    },
    {
      "cell_type": "code",
      "source": [
        "predClasses = predProbs.argmax(dim=1)\n",
        "predClasses"
      ],
      "metadata": {
        "colab": {
          "base_uri": "https://localhost:8080/"
        },
        "id": "Ot4paXFcbTS4",
        "outputId": "e80e83d6-3b17-4125-b478-62ceadad68e7"
      },
      "execution_count": 49,
      "outputs": [
        {
          "data": {
            "text/plain": [
              "tensor([5, 1, 7, 4, 3, 6, 4, 7, 1])"
            ]
          },
          "execution_count": 49,
          "metadata": {},
          "output_type": "execute_result"
        }
      ]
    },
    {
      "cell_type": "code",
      "source": [
        "testLabels"
      ],
      "metadata": {
        "colab": {
          "base_uri": "https://localhost:8080/"
        },
        "id": "VJFmPnigboOQ",
        "outputId": "39f9727c-24f7-48e7-f0e1-f5a84ed780cc"
      },
      "execution_count": 50,
      "outputs": [
        {
          "output_type": "execute_result",
          "data": {
            "text/plain": [
              "[5, 1, 7, 4, 3, 0, 4, 7, 1]"
            ]
          },
          "metadata": {},
          "execution_count": 50
        }
      ]
    },
    {
      "cell_type": "code",
      "source": [
        "plt.figure(figsize=(9,9))\n",
        "nrows = 3\n",
        "ncols = 3\n",
        "\n",
        "for i, sample in enumerate(testSamples):\n",
        "  plt.subplot(nrows,ncols,i+1)\n",
        "\n",
        "  plt.imshow(sample.squeeze(),cmap=\"gray\")\n",
        "\n",
        "  predLabel = classNames[predClasses[i]]\n",
        "\n",
        "  actualLabel = classNames[testLabels[i]]\n",
        "\n",
        "  titleText = f\"Pred : {predLabel} | Label : {actualLabel}\"\n",
        "\n",
        "  if predLabel == actualLabel:\n",
        "    c = \"g\"\n",
        "  else:\n",
        "    c = \"r\"\n",
        "\n",
        "  plt.title(titleText, fontsize=10, c=c)"
      ],
      "metadata": {
        "colab": {
          "base_uri": "https://localhost:8080/",
          "height": 649
        },
        "id": "LknH6iLFbp2r",
        "outputId": "d8d009ac-7f56-4735-d0ce-167d03785eed"
      },
      "execution_count": 51,
      "outputs": [
        {
          "output_type": "display_data",
          "data": {
            "text/plain": [
              "<Figure size 900x900 with 9 Axes>"
            ],
            "image/png": "[encoded data removed]"
          },
          "metadata": {}
        }
      ]
    },
    {
      "cell_type": "markdown",
      "source": [
        "## Model evaluation metrics"
      ],
      "metadata": {
        "id": "QoVYBwUyfVuN"
      }
    },
    {
      "cell_type": "code",
      "source": [
        "import mlxtend"
      ],
      "metadata": {
        "id": "fJW2DWabdMPl"
      },
      "execution_count": 52,
      "outputs": []
    },
    {
      "cell_type": "code",
      "source": [
        "mlxtend.__version__"
      ],
      "metadata": {
        "colab": {
          "base_uri": "https://localhost:8080/",
          "height": 35
        },
        "id": "D_TDBSDNeBDO",
        "outputId": "dbf43c14-3f81-4744-e3a2-255247d036e4"
      },
      "execution_count": 53,
      "outputs": [
        {
          "output_type": "execute_result",
          "data": {
            "text/plain": [
              "'0.14.0'"
            ],
            "application/vnd.google.colaboratory.intrinsic+json": {
              "type": "string"
            }
          },
          "metadata": {},
          "execution_count": 53
        }
      ]
    },
    {
      "cell_type": "code",
      "source": [
        "from tqdm.auto import tqdm\n",
        "\n",
        "# make predictions \n",
        "yPreds = []\n",
        "model2.eval()\n",
        "\n",
        "with torch.inference_mode():\n",
        "  for X, y in tqdm(testDataloader, desc=\"Making predictions...\"):\n",
        "\n",
        "    X, y = X.to(device), y.to(device)\n",
        "\n",
        "    yLogit = model2(X)\n",
        "\n",
        "    yPred = torch.softmax(yLogit.squeeze(),dim=0).argmax(dim=1)\n",
        "\n",
        "    yPreds.append(yPred.cpu())\n",
        "\n",
        "  #print(yPreds)\n",
        "  yPredTensor = torch.cat(yPreds)\n",
        "  yPredTensor[:10]"
      ],
      "metadata": {
        "colab": {
          "base_uri": "https://localhost:8080/",
          "height": 77,
          "referenced_widgets": [
            "d35bf12bcdc144e5960fdf05b53a4773",
            "563964fb8ba541189c62fa178df6d371",
            "f431646b39ea40dab527b907e154ba93",
            "16d0f9ae64cb4a4a97fbab7b3724e2d2",
            "0890036587cc4e6e8f76facb7769a148",
            "46119382fcca43d99ae63c588d5cc49c",
            "120b4908076f496eaabe0ee91f0849a2",
            "bb5c9470cb6947919f125a813bc96ef0",
            "a28b09e7ec224e8fad18e553d88d6ee6",
            "ad9fd54d40ec40d892e03b5eead8f805",
            "e0e345e0db9140159255704fbf446512"
          ]
        },
        "id": "Dtv4ikkHgqib",
        "outputId": "23183b3a-8524-41a5-df77-fa67f55e1c61"
      },
      "execution_count": 54,
      "outputs": [
        {
          "output_type": "display_data",
          "data": {
            "text/plain": [
              "Making predictions...:   0%|          | 0/313 [00:00<?, ?it/s]"
            ],
            "application/vnd.jupyter.widget-view+json": {
              "version_major": 2,
              "version_minor": 0,
              "model_id": "d35bf12bcdc144e5960fdf05b53a4773"
            }
          },
          "metadata": {}
        }
      ]
    },
    {
      "cell_type": "code",
      "source": [
        "try:\n",
        "  import torchmetrics, mlxtend\n",
        "  assert int (mlxtend.__version__.split(\".\")[1] >= 19, \"mlxtend should be 0.19.0 or higher\")\n",
        "except:\n",
        "  !pip install -q torchmetrics -q mlxtend\n",
        "  import torchmetrics, mlxtend\n",
        "  print(f\"mlxtend version: {mlxtend.__version__}\")"
      ],
      "metadata": {
        "colab": {
          "base_uri": "https://localhost:8080/"
        },
        "id": "FJrGkqJSh-O-",
        "outputId": "bce606d7-dbd6-478c-bcf0-78deaadd3600"
      },
      "execution_count": 55,
      "outputs": [
        {
          "output_type": "stream",
          "name": "stdout",
          "text": [
            "mlxtend version: 0.14.0\n"
          ]
        }
      ]
    },
    {
      "cell_type": "code",
      "source": [
        "from torchmetrics import ConfusionMatrix\n",
        "from mlxtend.plotting import plot_confusion_matrix\n",
        "\n",
        "cm = ConfusionMatrix(num_classes=len(classNames),task=\"multiclass\")\n",
        "cmTensor = cm(preds=yPredTensor, target=testDataset.targets)"
      ],
      "metadata": {
        "id": "puBXqg2UjC_B"
      },
      "execution_count": 58,
      "outputs": []
    },
    {
      "cell_type": "code",
      "source": [
        "fig, ax = plot_confusion_matrix(conf_mat=cmTensor.numpy(),figsize=(10,8))"
      ],
      "metadata": {
        "colab": {
          "base_uri": "https://localhost:8080/",
          "height": 651
        },
        "id": "t3jiFYuxliUb",
        "outputId": "5dca13f1-8b31-4a8b-a729-92b7fe3be032"
      },
      "execution_count": 61,
      "outputs": [
        {
          "output_type": "display_data",
          "data": {
            "text/plain": [
              "<Figure size 1000x800 with 1 Axes>"
            ],
            "image/png": "[encoded data removed]"
          },
          "metadata": {}
        }
      ]
    },
    {
      "cell_type": "markdown",
      "source": [
        "## Save and load best model"
      ],
      "metadata": {
        "id": "7rSi6o7JmcqB"
      }
    },
    {
      "cell_type": "code",
      "source": [
        "from pathlib import Path\n",
        "\n",
        "# Model directory\n",
        "MODEL_PATH = Path(\"models\")\n",
        "MODEL_PATH.mkdir(parents=True, exist_ok=True)\n",
        "\n",
        "MODEL_NAME = \"FashionMNISTMODEL.pth\"\n",
        "MODEL_SAVE_PATH = MODEL_PATH / MODEL_NAME\n",
        "\n",
        "MODEL_SAVE_PATH"
      ],
      "metadata": {
        "colab": {
          "base_uri": "https://localhost:8080/"
        },
        "id": "3Q-HsokWmfIs",
        "outputId": "5b425fbc-5d41-4211-98b0-d8a9908c7663"
      },
      "execution_count": 62,
      "outputs": [
        {
          "output_type": "execute_result",
          "data": {
            "text/plain": [
              "PosixPath('models/FashionMNISTMODEL.pth')"
            ]
          },
          "metadata": {},
          "execution_count": 62
        }
      ]
    },
    {
      "cell_type": "code",
      "source": [
        "print(f\"Saving model to: {MODEL_SAVE_PATH}\")\n",
        "torch.save(obj=model2.state_dict(), f=MODEL_SAVE_PATH)"
      ],
      "metadata": {
        "colab": {
          "base_uri": "https://localhost:8080/"
        },
        "id": "vnOcbO1lm6l6",
        "outputId": "5ee1b918-5e99-4bd8-bfad-33d6c737f292"
      },
      "execution_count": 63,
      "outputs": [
        {
          "output_type": "stream",
          "name": "stdout",
          "text": [
            "Saving model to: models/FashionMNISTMODEL.pth\n"
          ]
        }
      ]
    },
    {
      "cell_type": "code",
      "source": [
        "torch.manual_seed(42)\n",
        "\n",
        "loadedModel = TimsFashionMNISTModelV2(inputShape=1,hiddenUnits=10,outputShape=len(classNames))\n",
        "\n",
        "loadedModel.load_state_dict(torch.load(f=MODEL_SAVE_PATH))\n",
        "\n",
        "loadedModel.to(device)"
      ],
      "metadata": {
        "colab": {
          "base_uri": "https://localhost:8080/"
        },
        "id": "9vidbvw3nrX_",
        "outputId": "1217c1bc-d5ad-4db8-a1ff-76214f934162"
      },
      "execution_count": 64,
      "outputs": [
        {
          "output_type": "execute_result",
          "data": {
            "text/plain": [
              "TimsFashionMNISTModelV2(\n",
              "  (convBlock1): Sequential(\n",
              "    (0): Conv2d(1, 10, kernel_size=(3, 3), stride=(1, 1), padding=(1, 1))\n",
              "    (1): ReLU()\n",
              "    (2): Conv2d(10, 10, kernel_size=(3, 3), stride=(1, 1), padding=(1, 1))\n",
              "    (3): ReLU()\n",
              "    (4): MaxPool2d(kernel_size=2, stride=2, padding=0, dilation=1, ceil_mode=False)\n",
              "  )\n",
              "  (convBlock2): Sequential(\n",
              "    (0): Conv2d(10, 10, kernel_size=(3, 3), stride=(1, 1), padding=(1, 1))\n",
              "    (1): ReLU()\n",
              "    (2): Conv2d(10, 10, kernel_size=(3, 3), stride=(1, 1), padding=(1, 1))\n",
              "    (3): ReLU()\n",
              "    (4): MaxPool2d(kernel_size=2, stride=2, padding=0, dilation=1, ceil_mode=False)\n",
              "  )\n",
              "  (classifier): Sequential(\n",
              "    (0): Flatten(start_dim=1, end_dim=-1)\n",
              "    (1): Linear(in_features=490, out_features=10, bias=True)\n",
              "  )\n",
              ")"
            ]
          },
          "metadata": {},
          "execution_count": 64
        }
      ]
    },
    {
      "cell_type": "code",
      "source": [
        "torch.manual_seed(42)\n",
        "\n",
        "loadedModelResults = evalModel(\n",
        "  loadedModel,testDataloader, lossFn, accuracy\n",
        ")"
      ],
      "metadata": {
        "id": "Nn5eaR0Fs0LQ"
      },
      "execution_count": 65,
      "outputs": []
    },
    {
      "cell_type": "code",
      "source": [
        "loadedModelResults"
      ],
      "metadata": {
        "colab": {
          "base_uri": "https://localhost:8080/"
        },
        "id": "-6PfAtIUtNC9",
        "outputId": "5ddce301-a3c6-4ca5-dbe9-b042c8b65044"
      },
      "execution_count": 66,
      "outputs": [
        {
          "output_type": "execute_result",
          "data": {
            "text/plain": [
              "{'modelName': 'TimsFashionMNISTModelV2',\n",
              " 'modelLoss': 0.3023263216018677,\n",
              " 'modelAcc': 0.8938698172569275}"
            ]
          },
          "metadata": {},
          "execution_count": 66
        }
      ]
    },
    {
      "cell_type": "code",
      "source": [
        "torch.isclose(torch.tensor(model2Results[\"modelLoss\"]), torch.tensor(loadedModelResults[\"modelLoss\"]),atol=1e-02)"
      ],
      "metadata": {
        "colab": {
          "base_uri": "https://localhost:8080/"
        },
        "id": "33oMJACutOe2",
        "outputId": "c9dd9d7a-cc47-4a3c-f79c-1f036b8596ba"
      },
      "execution_count": 67,
      "outputs": [
        {
          "output_type": "execute_result",
          "data": {
            "text/plain": [
              "tensor(True)"
            ]
          },
          "metadata": {},
          "execution_count": 67
        }
      ]
    },
    {
      "cell_type": "code",
      "source": [],
      "metadata": {
        "id": "N5Z54lCUtcmZ"
      },
      "execution_count": null,
      "outputs": []
    }
  ],
  "metadata": {
    "accelerator": "GPU",
    "colab": {
      "provenance": []
    },
    "kernelspec": {
      "display_name": "Python 3",
      "name": "python3"
    },
    "language_info": {
      "name": "python"
    },
    "widgets": {
      "application/vnd.jupyter.widget-state+json": {
        "be2fb09a61c54f2281f9593ce4871d09": {
          "model_module": "@jupyter-widgets/controls",
          "model_name": "HBoxModel",
          "model_module_version": "1.5.0",
          "state": {
            "_dom_classes": [],
            "_model_module": "@jupyter-widgets/controls",
            "_model_module_version": "1.5.0",
            "_model_name": "HBoxModel",
            "_view_count": null,
            "_view_module": "@jupyter-widgets/controls",
            "_view_module_version": "1.5.0",
            "_view_name": "HBoxView",
            "box_style": "",
            "children": [
              "IPY_MODEL_bcac2ec1fc2c443283c7d374cc13ff0d",
              "IPY_MODEL_f52d58a7df75437db2bdfa0769661aa4",
              "IPY_MODEL_fada5d5a80d44a78ba1d44ea9eee5e5f"
            ],
            "layout": "IPY_MODEL_34a627c8b9904fd9b960c56de970387a"
          }
        },
        "bcac2ec1fc2c443283c7d374cc13ff0d": {
          "model_module": "@jupyter-widgets/controls",
          "model_name": "HTMLModel",
          "model_module_version": "1.5.0",
          "state": {
            "_dom_classes": [],
            "_model_module": "@jupyter-widgets/controls",
            "_model_module_version": "1.5.0",
            "_model_name": "HTMLModel",
            "_view_count": null,
            "_view_module": "@jupyter-widgets/controls",
            "_view_module_version": "1.5.0",
            "_view_name": "HTMLView",
            "description": "",
            "description_tooltip": null,
            "layout": "IPY_MODEL_34aa867c48d34af4a19d072e953650b5",
            "placeholder": "​",
            "style": "IPY_MODEL_03f175ffc23c41618bc39c82296ea11a",
            "value": "100%"
          }
        },
        "f52d58a7df75437db2bdfa0769661aa4": {
          "model_module": "@jupyter-widgets/controls",
          "model_name": "FloatProgressModel",
          "model_module_version": "1.5.0",
          "state": {
            "_dom_classes": [],
            "_model_module": "@jupyter-widgets/controls",
            "_model_module_version": "1.5.0",
            "_model_name": "FloatProgressModel",
            "_view_count": null,
            "_view_module": "@jupyter-widgets/controls",
            "_view_module_version": "1.5.0",
            "_view_name": "ProgressView",
            "bar_style": "success",
            "description": "",
            "description_tooltip": null,
            "layout": "IPY_MODEL_6b8bf4033df44caea0095d557c234d78",
            "max": 10,
            "min": 0,
            "orientation": "horizontal",
            "style": "IPY_MODEL_bc4f2c15434349cc8ec6d02fea03d765",
            "value": 10
          }
        },
        "fada5d5a80d44a78ba1d44ea9eee5e5f": {
          "model_module": "@jupyter-widgets/controls",
          "model_name": "HTMLModel",
          "model_module_version": "1.5.0",
          "state": {
            "_dom_classes": [],
            "_model_module": "@jupyter-widgets/controls",
            "_model_module_version": "1.5.0",
            "_model_name": "HTMLModel",
            "_view_count": null,
            "_view_module": "@jupyter-widgets/controls",
            "_view_module_version": "1.5.0",
            "_view_name": "HTMLView",
            "description": "",
            "description_tooltip": null,
            "layout": "IPY_MODEL_52f6ee10609b4070a7392a30d5f27362",
            "placeholder": "​",
            "style": "IPY_MODEL_c82d77fcc9d14666bd917f44d6be4947",
            "value": " 10/10 [02:32&lt;00:00, 15.43s/it]"
          }
        },
        "34a627c8b9904fd9b960c56de970387a": {
          "model_module": "@jupyter-widgets/base",
          "model_name": "LayoutModel",
          "model_module_version": "1.2.0",
          "state": {
            "_model_module": "@jupyter-widgets/base",
            "_model_module_version": "1.2.0",
            "_model_name": "LayoutModel",
            "_view_count": null,
            "_view_module": "@jupyter-widgets/base",
            "_view_module_version": "1.2.0",
            "_view_name": "LayoutView",
            "align_content": null,
            "align_items": null,
            "align_self": null,
            "border": null,
            "bottom": null,
            "display": null,
            "flex": null,
            "flex_flow": null,
            "grid_area": null,
            "grid_auto_columns": null,
            "grid_auto_flow": null,
            "grid_auto_rows": null,
            "grid_column": null,
            "grid_gap": null,
            "grid_row": null,
            "grid_template_areas": null,
            "grid_template_columns": null,
            "grid_template_rows": null,
            "height": null,
            "justify_content": null,
            "justify_items": null,
            "left": null,
            "margin": null,
            "max_height": null,
            "max_width": null,
            "min_height": null,
            "min_width": null,
            "object_fit": null,
            "object_position": null,
            "order": null,
            "overflow": null,
            "overflow_x": null,
            "overflow_y": null,
            "padding": null,
            "right": null,
            "top": null,
            "visibility": null,
            "width": null
          }
        },
        "34aa867c48d34af4a19d072e953650b5": {
          "model_module": "@jupyter-widgets/base",
          "model_name": "LayoutModel",
          "model_module_version": "1.2.0",
          "state": {
            "_model_module": "@jupyter-widgets/base",
            "_model_module_version": "1.2.0",
            "_model_name": "LayoutModel",
            "_view_count": null,
            "_view_module": "@jupyter-widgets/base",
            "_view_module_version": "1.2.0",
            "_view_name": "LayoutView",
            "align_content": null,
            "align_items": null,
            "align_self": null,
            "border": null,
            "bottom": null,
            "display": null,
            "flex": null,
            "flex_flow": null,
            "grid_area": null,
            "grid_auto_columns": null,
            "grid_auto_flow": null,
            "grid_auto_rows": null,
            "grid_column": null,
            "grid_gap": null,
            "grid_row": null,
            "grid_template_areas": null,
            "grid_template_columns": null,
            "grid_template_rows": null,
            "height": null,
            "justify_content": null,
            "justify_items": null,
            "left": null,
            "margin": null,
            "max_height": null,
            "max_width": null,
            "min_height": null,
            "min_width": null,
            "object_fit": null,
            "object_position": null,
            "order": null,
            "overflow": null,
            "overflow_x": null,
            "overflow_y": null,
            "padding": null,
            "right": null,
            "top": null,
            "visibility": null,
            "width": null
          }
        },
        "03f175ffc23c41618bc39c82296ea11a": {
          "model_module": "@jupyter-widgets/controls",
          "model_name": "DescriptionStyleModel",
          "model_module_version": "1.5.0",
          "state": {
            "_model_module": "@jupyter-widgets/controls",
            "_model_module_version": "1.5.0",
            "_model_name": "DescriptionStyleModel",
            "_view_count": null,
            "_view_module": "@jupyter-widgets/base",
            "_view_module_version": "1.2.0",
            "_view_name": "StyleView",
            "description_width": ""
          }
        },
        "6b8bf4033df44caea0095d557c234d78": {
          "model_module": "@jupyter-widgets/base",
          "model_name": "LayoutModel",
          "model_module_version": "1.2.0",
          "state": {
            "_model_module": "@jupyter-widgets/base",
            "_model_module_version": "1.2.0",
            "_model_name": "LayoutModel",
            "_view_count": null,
            "_view_module": "@jupyter-widgets/base",
            "_view_module_version": "1.2.0",
            "_view_name": "LayoutView",
            "align_content": null,
            "align_items": null,
            "align_self": null,
            "border": null,
            "bottom": null,
            "display": null,
            "flex": null,
            "flex_flow": null,
            "grid_area": null,
            "grid_auto_columns": null,
            "grid_auto_flow": null,
            "grid_auto_rows": null,
            "grid_column": null,
            "grid_gap": null,
            "grid_row": null,
            "grid_template_areas": null,
            "grid_template_columns": null,
            "grid_template_rows": null,
            "height": null,
            "justify_content": null,
            "justify_items": null,
            "left": null,
            "margin": null,
            "max_height": null,
            "max_width": null,
            "min_height": null,
            "min_width": null,
            "object_fit": null,
            "object_position": null,
            "order": null,
            "overflow": null,
            "overflow_x": null,
            "overflow_y": null,
            "padding": null,
            "right": null,
            "top": null,
            "visibility": null,
            "width": null
          }
        },
        "bc4f2c15434349cc8ec6d02fea03d765": {
          "model_module": "@jupyter-widgets/controls",
          "model_name": "ProgressStyleModel",
          "model_module_version": "1.5.0",
          "state": {
            "_model_module": "@jupyter-widgets/controls",
            "_model_module_version": "1.5.0",
            "_model_name": "ProgressStyleModel",
            "_view_count": null,
            "_view_module": "@jupyter-widgets/base",
            "_view_module_version": "1.2.0",
            "_view_name": "StyleView",
            "bar_color": null,
            "description_width": ""
          }
        },
        "52f6ee10609b4070a7392a30d5f27362": {
          "model_module": "@jupyter-widgets/base",
          "model_name": "LayoutModel",
          "model_module_version": "1.2.0",
          "state": {
            "_model_module": "@jupyter-widgets/base",
            "_model_module_version": "1.2.0",
            "_model_name": "LayoutModel",
            "_view_count": null,
            "_view_module": "@jupyter-widgets/base",
            "_view_module_version": "1.2.0",
            "_view_name": "LayoutView",
            "align_content": null,
            "align_items": null,
            "align_self": null,
            "border": null,
            "bottom": null,
            "display": null,
            "flex": null,
            "flex_flow": null,
            "grid_area": null,
            "grid_auto_columns": null,
            "grid_auto_flow": null,
            "grid_auto_rows": null,
            "grid_column": null,
            "grid_gap": null,
            "grid_row": null,
            "grid_template_areas": null,
            "grid_template_columns": null,
            "grid_template_rows": null,
            "height": null,
            "justify_content": null,
            "justify_items": null,
            "left": null,
            "margin": null,
            "max_height": null,
            "max_width": null,
            "min_height": null,
            "min_width": null,
            "object_fit": null,
            "object_position": null,
            "order": null,
            "overflow": null,
            "overflow_x": null,
            "overflow_y": null,
            "padding": null,
            "right": null,
            "top": null,
            "visibility": null,
            "width": null
          }
        },
        "c82d77fcc9d14666bd917f44d6be4947": {
          "model_module": "@jupyter-widgets/controls",
          "model_name": "DescriptionStyleModel",
          "model_module_version": "1.5.0",
          "state": {
            "_model_module": "@jupyter-widgets/controls",
            "_model_module_version": "1.5.0",
            "_model_name": "DescriptionStyleModel",
            "_view_count": null,
            "_view_module": "@jupyter-widgets/base",
            "_view_module_version": "1.2.0",
            "_view_name": "StyleView",
            "description_width": ""
          }
        },
        "6c13663b5a21432eb686ab57ad64054f": {
          "model_module": "@jupyter-widgets/controls",
          "model_name": "HBoxModel",
          "model_module_version": "1.5.0",
          "state": {
            "_dom_classes": [],
            "_model_module": "@jupyter-widgets/controls",
            "_model_module_version": "1.5.0",
            "_model_name": "HBoxModel",
            "_view_count": null,
            "_view_module": "@jupyter-widgets/controls",
            "_view_module_version": "1.5.0",
            "_view_name": "HBoxView",
            "box_style": "",
            "children": [
              "IPY_MODEL_3f2768c92075438e94907928bc547375",
              "IPY_MODEL_763aea3d5a9c42b69fd7983f0f308549",
              "IPY_MODEL_5704d5d221e140ca9d012664ff11bc46"
            ],
            "layout": "IPY_MODEL_0ee74fbb23004b21a2708d47285e3776"
          }
        },
        "3f2768c92075438e94907928bc547375": {
          "model_module": "@jupyter-widgets/controls",
          "model_name": "HTMLModel",
          "model_module_version": "1.5.0",
          "state": {
            "_dom_classes": [],
            "_model_module": "@jupyter-widgets/controls",
            "_model_module_version": "1.5.0",
            "_model_name": "HTMLModel",
            "_view_count": null,
            "_view_module": "@jupyter-widgets/controls",
            "_view_module_version": "1.5.0",
            "_view_name": "HTMLView",
            "description": "",
            "description_tooltip": null,
            "layout": "IPY_MODEL_a806eef7d31f469d89c94fec1ad705ef",
            "placeholder": "​",
            "style": "IPY_MODEL_60c8acae092f4ffda38c308e76c3ef71",
            "value": "100%"
          }
        },
        "763aea3d5a9c42b69fd7983f0f308549": {
          "model_module": "@jupyter-widgets/controls",
          "model_name": "FloatProgressModel",
          "model_module_version": "1.5.0",
          "state": {
            "_dom_classes": [],
            "_model_module": "@jupyter-widgets/controls",
            "_model_module_version": "1.5.0",
            "_model_name": "FloatProgressModel",
            "_view_count": null,
            "_view_module": "@jupyter-widgets/controls",
            "_view_module_version": "1.5.0",
            "_view_name": "ProgressView",
            "bar_style": "success",
            "description": "",
            "description_tooltip": null,
            "layout": "IPY_MODEL_21c9cf9c532042eca7bba390b411aa9a",
            "max": 10,
            "min": 0,
            "orientation": "horizontal",
            "style": "IPY_MODEL_647b95deae824403b6b6ad962e2be190",
            "value": 10
          }
        },
        "5704d5d221e140ca9d012664ff11bc46": {
          "model_module": "@jupyter-widgets/controls",
          "model_name": "HTMLModel",
          "model_module_version": "1.5.0",
          "state": {
            "_dom_classes": [],
            "_model_module": "@jupyter-widgets/controls",
            "_model_module_version": "1.5.0",
            "_model_name": "HTMLModel",
            "_view_count": null,
            "_view_module": "@jupyter-widgets/controls",
            "_view_module_version": "1.5.0",
            "_view_name": "HTMLView",
            "description": "",
            "description_tooltip": null,
            "layout": "IPY_MODEL_b3a01c4278d34faebf99950c729da6f2",
            "placeholder": "​",
            "style": "IPY_MODEL_82d1781c2a9048d6b39755587106ddf3",
            "value": " 10/10 [02:46&lt;00:00, 14.94s/it]"
          }
        },
        "0ee74fbb23004b21a2708d47285e3776": {
          "model_module": "@jupyter-widgets/base",
          "model_name": "LayoutModel",
          "model_module_version": "1.2.0",
          "state": {
            "_model_module": "@jupyter-widgets/base",
            "_model_module_version": "1.2.0",
            "_model_name": "LayoutModel",
            "_view_count": null,
            "_view_module": "@jupyter-widgets/base",
            "_view_module_version": "1.2.0",
            "_view_name": "LayoutView",
            "align_content": null,
            "align_items": null,
            "align_self": null,
            "border": null,
            "bottom": null,
            "display": null,
            "flex": null,
            "flex_flow": null,
            "grid_area": null,
            "grid_auto_columns": null,
            "grid_auto_flow": null,
            "grid_auto_rows": null,
            "grid_column": null,
            "grid_gap": null,
            "grid_row": null,
            "grid_template_areas": null,
            "grid_template_columns": null,
            "grid_template_rows": null,
            "height": null,
            "justify_content": null,
            "justify_items": null,
            "left": null,
            "margin": null,
            "max_height": null,
            "max_width": null,
            "min_height": null,
            "min_width": null,
            "object_fit": null,
            "object_position": null,
            "order": null,
            "overflow": null,
            "overflow_x": null,
            "overflow_y": null,
            "padding": null,
            "right": null,
            "top": null,
            "visibility": null,
            "width": null
          }
        },
        "a806eef7d31f469d89c94fec1ad705ef": {
          "model_module": "@jupyter-widgets/base",
          "model_name": "LayoutModel",
          "model_module_version": "1.2.0",
          "state": {
            "_model_module": "@jupyter-widgets/base",
            "_model_module_version": "1.2.0",
            "_model_name": "LayoutModel",
            "_view_count": null,
            "_view_module": "@jupyter-widgets/base",
            "_view_module_version": "1.2.0",
            "_view_name": "LayoutView",
            "align_content": null,
            "align_items": null,
            "align_self": null,
            "border": null,
            "bottom": null,
            "display": null,
            "flex": null,
            "flex_flow": null,
            "grid_area": null,
            "grid_auto_columns": null,
            "grid_auto_flow": null,
            "grid_auto_rows": null,
            "grid_column": null,
            "grid_gap": null,
            "grid_row": null,
            "grid_template_areas": null,
            "grid_template_columns": null,
            "grid_template_rows": null,
            "height": null,
            "justify_content": null,
            "justify_items": null,
            "left": null,
            "margin": null,
            "max_height": null,
            "max_width": null,
            "min_height": null,
            "min_width": null,
            "object_fit": null,
            "object_position": null,
            "order": null,
            "overflow": null,
            "overflow_x": null,
            "overflow_y": null,
            "padding": null,
            "right": null,
            "top": null,
            "visibility": null,
            "width": null
          }
        },
        "60c8acae092f4ffda38c308e76c3ef71": {
          "model_module": "@jupyter-widgets/controls",
          "model_name": "DescriptionStyleModel",
          "model_module_version": "1.5.0",
          "state": {
            "_model_module": "@jupyter-widgets/controls",
            "_model_module_version": "1.5.0",
            "_model_name": "DescriptionStyleModel",
            "_view_count": null,
            "_view_module": "@jupyter-widgets/base",
            "_view_module_version": "1.2.0",
            "_view_name": "StyleView",
            "description_width": ""
          }
        },
        "21c9cf9c532042eca7bba390b411aa9a": {
          "model_module": "@jupyter-widgets/base",
          "model_name": "LayoutModel",
          "model_module_version": "1.2.0",
          "state": {
            "_model_module": "@jupyter-widgets/base",
            "_model_module_version": "1.2.0",
            "_model_name": "LayoutModel",
            "_view_count": null,
            "_view_module": "@jupyter-widgets/base",
            "_view_module_version": "1.2.0",
            "_view_name": "LayoutView",
            "align_content": null,
            "align_items": null,
            "align_self": null,
            "border": null,
            "bottom": null,
            "display": null,
            "flex": null,
            "flex_flow": null,
            "grid_area": null,
            "grid_auto_columns": null,
            "grid_auto_flow": null,
            "grid_auto_rows": null,
            "grid_column": null,
            "grid_gap": null,
            "grid_row": null,
            "grid_template_areas": null,
            "grid_template_columns": null,
            "grid_template_rows": null,
            "height": null,
            "justify_content": null,
            "justify_items": null,
            "left": null,
            "margin": null,
            "max_height": null,
            "max_width": null,
            "min_height": null,
            "min_width": null,
            "object_fit": null,
            "object_position": null,
            "order": null,
            "overflow": null,
            "overflow_x": null,
            "overflow_y": null,
            "padding": null,
            "right": null,
            "top": null,
            "visibility": null,
            "width": null
          }
        },
        "647b95deae824403b6b6ad962e2be190": {
          "model_module": "@jupyter-widgets/controls",
          "model_name": "ProgressStyleModel",
          "model_module_version": "1.5.0",
          "state": {
            "_model_module": "@jupyter-widgets/controls",
            "_model_module_version": "1.5.0",
            "_model_name": "ProgressStyleModel",
            "_view_count": null,
            "_view_module": "@jupyter-widgets/base",
            "_view_module_version": "1.2.0",
            "_view_name": "StyleView",
            "bar_color": null,
            "description_width": ""
          }
        },
        "b3a01c4278d34faebf99950c729da6f2": {
          "model_module": "@jupyter-widgets/base",
          "model_name": "LayoutModel",
          "model_module_version": "1.2.0",
          "state": {
            "_model_module": "@jupyter-widgets/base",
            "_model_module_version": "1.2.0",
            "_model_name": "LayoutModel",
            "_view_count": null,
            "_view_module": "@jupyter-widgets/base",
            "_view_module_version": "1.2.0",
            "_view_name": "LayoutView",
            "align_content": null,
            "align_items": null,
            "align_self": null,
            "border": null,
            "bottom": null,
            "display": null,
            "flex": null,
            "flex_flow": null,
            "grid_area": null,
            "grid_auto_columns": null,
            "grid_auto_flow": null,
            "grid_auto_rows": null,
            "grid_column": null,
            "grid_gap": null,
            "grid_row": null,
            "grid_template_areas": null,
            "grid_template_columns": null,
            "grid_template_rows": null,
            "height": null,
            "justify_content": null,
            "justify_items": null,
            "left": null,
            "margin": null,
            "max_height": null,
            "max_width": null,
            "min_height": null,
            "min_width": null,
            "object_fit": null,
            "object_position": null,
            "order": null,
            "overflow": null,
            "overflow_x": null,
            "overflow_y": null,
            "padding": null,
            "right": null,
            "top": null,
            "visibility": null,
            "width": null
          }
        },
        "82d1781c2a9048d6b39755587106ddf3": {
          "model_module": "@jupyter-widgets/controls",
          "model_name": "DescriptionStyleModel",
          "model_module_version": "1.5.0",
          "state": {
            "_model_module": "@jupyter-widgets/controls",
            "_model_module_version": "1.5.0",
            "_model_name": "DescriptionStyleModel",
            "_view_count": null,
            "_view_module": "@jupyter-widgets/base",
            "_view_module_version": "1.2.0",
            "_view_name": "StyleView",
            "description_width": ""
          }
        },
        "5b8c5c08371f4199bc53b1e64b7343b0": {
          "model_module": "@jupyter-widgets/controls",
          "model_name": "HBoxModel",
          "model_module_version": "1.5.0",
          "state": {
            "_dom_classes": [],
            "_model_module": "@jupyter-widgets/controls",
            "_model_module_version": "1.5.0",
            "_model_name": "HBoxModel",
            "_view_count": null,
            "_view_module": "@jupyter-widgets/controls",
            "_view_module_version": "1.5.0",
            "_view_name": "HBoxView",
            "box_style": "",
            "children": [
              "IPY_MODEL_fa2d5cbbf3d644d7906cab1dd0e61dd4",
              "IPY_MODEL_cfa0ebb608b945fb95f90e792b456ad5",
              "IPY_MODEL_4cd75f875e3c44b384554922fba5e061"
            ],
            "layout": "IPY_MODEL_a906ec607e6b417a98416f082c3fb924"
          }
        },
        "fa2d5cbbf3d644d7906cab1dd0e61dd4": {
          "model_module": "@jupyter-widgets/controls",
          "model_name": "HTMLModel",
          "model_module_version": "1.5.0",
          "state": {
            "_dom_classes": [],
            "_model_module": "@jupyter-widgets/controls",
            "_model_module_version": "1.5.0",
            "_model_name": "HTMLModel",
            "_view_count": null,
            "_view_module": "@jupyter-widgets/controls",
            "_view_module_version": "1.5.0",
            "_view_name": "HTMLView",
            "description": "",
            "description_tooltip": null,
            "layout": "IPY_MODEL_f63a4a3833bd4209aa949d1619c3ac28",
            "placeholder": "​",
            "style": "IPY_MODEL_4435ea8960cf4c6188dc315dc7a25022",
            "value": "100%"
          }
        },
        "cfa0ebb608b945fb95f90e792b456ad5": {
          "model_module": "@jupyter-widgets/controls",
          "model_name": "FloatProgressModel",
          "model_module_version": "1.5.0",
          "state": {
            "_dom_classes": [],
            "_model_module": "@jupyter-widgets/controls",
            "_model_module_version": "1.5.0",
            "_model_name": "FloatProgressModel",
            "_view_count": null,
            "_view_module": "@jupyter-widgets/controls",
            "_view_module_version": "1.5.0",
            "_view_name": "ProgressView",
            "bar_style": "success",
            "description": "",
            "description_tooltip": null,
            "layout": "IPY_MODEL_2cda3559aea041a5aafbed576758086b",
            "max": 10,
            "min": 0,
            "orientation": "horizontal",
            "style": "IPY_MODEL_551db9e842e4471ab37f29a3391c62a7",
            "value": 10
          }
        },
        "4cd75f875e3c44b384554922fba5e061": {
          "model_module": "@jupyter-widgets/controls",
          "model_name": "HTMLModel",
          "model_module_version": "1.5.0",
          "state": {
            "_dom_classes": [],
            "_model_module": "@jupyter-widgets/controls",
            "_model_module_version": "1.5.0",
            "_model_name": "HTMLModel",
            "_view_count": null,
            "_view_module": "@jupyter-widgets/controls",
            "_view_module_version": "1.5.0",
            "_view_name": "HTMLView",
            "description": "",
            "description_tooltip": null,
            "layout": "IPY_MODEL_29b28aeb2a6040df9b0994f748eaa6a0",
            "placeholder": "​",
            "style": "IPY_MODEL_06769596f5784ac2950d716e88f82779",
            "value": " 10/10 [02:36&lt;00:00, 15.59s/it]"
          }
        },
        "a906ec607e6b417a98416f082c3fb924": {
          "model_module": "@jupyter-widgets/base",
          "model_name": "LayoutModel",
          "model_module_version": "1.2.0",
          "state": {
            "_model_module": "@jupyter-widgets/base",
            "_model_module_version": "1.2.0",
            "_model_name": "LayoutModel",
            "_view_count": null,
            "_view_module": "@jupyter-widgets/base",
            "_view_module_version": "1.2.0",
            "_view_name": "LayoutView",
            "align_content": null,
            "align_items": null,
            "align_self": null,
            "border": null,
            "bottom": null,
            "display": null,
            "flex": null,
            "flex_flow": null,
            "grid_area": null,
            "grid_auto_columns": null,
            "grid_auto_flow": null,
            "grid_auto_rows": null,
            "grid_column": null,
            "grid_gap": null,
            "grid_row": null,
            "grid_template_areas": null,
            "grid_template_columns": null,
            "grid_template_rows": null,
            "height": null,
            "justify_content": null,
            "justify_items": null,
            "left": null,
            "margin": null,
            "max_height": null,
            "max_width": null,
            "min_height": null,
            "min_width": null,
            "object_fit": null,
            "object_position": null,
            "order": null,
            "overflow": null,
            "overflow_x": null,
            "overflow_y": null,
            "padding": null,
            "right": null,
            "top": null,
            "visibility": null,
            "width": null
          }
        },
        "f63a4a3833bd4209aa949d1619c3ac28": {
          "model_module": "@jupyter-widgets/base",
          "model_name": "LayoutModel",
          "model_module_version": "1.2.0",
          "state": {
            "_model_module": "@jupyter-widgets/base",
            "_model_module_version": "1.2.0",
            "_model_name": "LayoutModel",
            "_view_count": null,
            "_view_module": "@jupyter-widgets/base",
            "_view_module_version": "1.2.0",
            "_view_name": "LayoutView",
            "align_content": null,
            "align_items": null,
            "align_self": null,
            "border": null,
            "bottom": null,
            "display": null,
            "flex": null,
            "flex_flow": null,
            "grid_area": null,
            "grid_auto_columns": null,
            "grid_auto_flow": null,
            "grid_auto_rows": null,
            "grid_column": null,
            "grid_gap": null,
            "grid_row": null,
            "grid_template_areas": null,
            "grid_template_columns": null,
            "grid_template_rows": null,
            "height": null,
            "justify_content": null,
            "justify_items": null,
            "left": null,
            "margin": null,
            "max_height": null,
            "max_width": null,
            "min_height": null,
            "min_width": null,
            "object_fit": null,
            "object_position": null,
            "order": null,
            "overflow": null,
            "overflow_x": null,
            "overflow_y": null,
            "padding": null,
            "right": null,
            "top": null,
            "visibility": null,
            "width": null
          }
        },
        "4435ea8960cf4c6188dc315dc7a25022": {
          "model_module": "@jupyter-widgets/controls",
          "model_name": "DescriptionStyleModel",
          "model_module_version": "1.5.0",
          "state": {
            "_model_module": "@jupyter-widgets/controls",
            "_model_module_version": "1.5.0",
            "_model_name": "DescriptionStyleModel",
            "_view_count": null,
            "_view_module": "@jupyter-widgets/base",
            "_view_module_version": "1.2.0",
            "_view_name": "StyleView",
            "description_width": ""
          }
        },
        "2cda3559aea041a5aafbed576758086b": {
          "model_module": "@jupyter-widgets/base",
          "model_name": "LayoutModel",
          "model_module_version": "1.2.0",
          "state": {
            "_model_module": "@jupyter-widgets/base",
            "_model_module_version": "1.2.0",
            "_model_name": "LayoutModel",
            "_view_count": null,
            "_view_module": "@jupyter-widgets/base",
            "_view_module_version": "1.2.0",
            "_view_name": "LayoutView",
            "align_content": null,
            "align_items": null,
            "align_self": null,
            "border": null,
            "bottom": null,
            "display": null,
            "flex": null,
            "flex_flow": null,
            "grid_area": null,
            "grid_auto_columns": null,
            "grid_auto_flow": null,
            "grid_auto_rows": null,
            "grid_column": null,
            "grid_gap": null,
            "grid_row": null,
            "grid_template_areas": null,
            "grid_template_columns": null,
            "grid_template_rows": null,
            "height": null,
            "justify_content": null,
            "justify_items": null,
            "left": null,
            "margin": null,
            "max_height": null,
            "max_width": null,
            "min_height": null,
            "min_width": null,
            "object_fit": null,
            "object_position": null,
            "order": null,
            "overflow": null,
            "overflow_x": null,
            "overflow_y": null,
            "padding": null,
            "right": null,
            "top": null,
            "visibility": null,
            "width": null
          }
        },
        "551db9e842e4471ab37f29a3391c62a7": {
          "model_module": "@jupyter-widgets/controls",
          "model_name": "ProgressStyleModel",
          "model_module_version": "1.5.0",
          "state": {
            "_model_module": "@jupyter-widgets/controls",
            "_model_module_version": "1.5.0",
            "_model_name": "ProgressStyleModel",
            "_view_count": null,
            "_view_module": "@jupyter-widgets/base",
            "_view_module_version": "1.2.0",
            "_view_name": "StyleView",
            "bar_color": null,
            "description_width": ""
          }
        },
        "29b28aeb2a6040df9b0994f748eaa6a0": {
          "model_module": "@jupyter-widgets/base",
          "model_name": "LayoutModel",
          "model_module_version": "1.2.0",
          "state": {
            "_model_module": "@jupyter-widgets/base",
            "_model_module_version": "1.2.0",
            "_model_name": "LayoutModel",
            "_view_count": null,
            "_view_module": "@jupyter-widgets/base",
            "_view_module_version": "1.2.0",
            "_view_name": "LayoutView",
            "align_content": null,
            "align_items": null,
            "align_self": null,
            "border": null,
            "bottom": null,
            "display": null,
            "flex": null,
            "flex_flow": null,
            "grid_area": null,
            "grid_auto_columns": null,
            "grid_auto_flow": null,
            "grid_auto_rows": null,
            "grid_column": null,
            "grid_gap": null,
            "grid_row": null,
            "grid_template_areas": null,
            "grid_template_columns": null,
            "grid_template_rows": null,
            "height": null,
            "justify_content": null,
            "justify_items": null,
            "left": null,
            "margin": null,
            "max_height": null,
            "max_width": null,
            "min_height": null,
            "min_width": null,
            "object_fit": null,
            "object_position": null,
            "order": null,
            "overflow": null,
            "overflow_x": null,
            "overflow_y": null,
            "padding": null,
            "right": null,
            "top": null,
            "visibility": null,
            "width": null
          }
        },
        "06769596f5784ac2950d716e88f82779": {
          "model_module": "@jupyter-widgets/controls",
          "model_name": "DescriptionStyleModel",
          "model_module_version": "1.5.0",
          "state": {
            "_model_module": "@jupyter-widgets/controls",
            "_model_module_version": "1.5.0",
            "_model_name": "DescriptionStyleModel",
            "_view_count": null,
            "_view_module": "@jupyter-widgets/base",
            "_view_module_version": "1.2.0",
            "_view_name": "StyleView",
            "description_width": ""
          }
        },
        "d35bf12bcdc144e5960fdf05b53a4773": {
          "model_module": "@jupyter-widgets/controls",
          "model_name": "HBoxModel",
          "model_module_version": "1.5.0",
          "state": {
            "_dom_classes": [],
            "_model_module": "@jupyter-widgets/controls",
            "_model_module_version": "1.5.0",
            "_model_name": "HBoxModel",
            "_view_count": null,
            "_view_module": "@jupyter-widgets/controls",
            "_view_module_version": "1.5.0",
            "_view_name": "HBoxView",
            "box_style": "",
            "children": [
              "IPY_MODEL_563964fb8ba541189c62fa178df6d371",
              "IPY_MODEL_f431646b39ea40dab527b907e154ba93",
              "IPY_MODEL_16d0f9ae64cb4a4a97fbab7b3724e2d2"
            ],
            "layout": "IPY_MODEL_0890036587cc4e6e8f76facb7769a148"
          }
        },
        "563964fb8ba541189c62fa178df6d371": {
          "model_module": "@jupyter-widgets/controls",
          "model_name": "HTMLModel",
          "model_module_version": "1.5.0",
          "state": {
            "_dom_classes": [],
            "_model_module": "@jupyter-widgets/controls",
            "_model_module_version": "1.5.0",
            "_model_name": "HTMLModel",
            "_view_count": null,
            "_view_module": "@jupyter-widgets/controls",
            "_view_module_version": "1.5.0",
            "_view_name": "HTMLView",
            "description": "",
            "description_tooltip": null,
            "layout": "IPY_MODEL_46119382fcca43d99ae63c588d5cc49c",
            "placeholder": "​",
            "style": "IPY_MODEL_120b4908076f496eaabe0ee91f0849a2",
            "value": "Making predictions...: 100%"
          }
        },
        "f431646b39ea40dab527b907e154ba93": {
          "model_module": "@jupyter-widgets/controls",
          "model_name": "FloatProgressModel",
          "model_module_version": "1.5.0",
          "state": {
            "_dom_classes": [],
            "_model_module": "@jupyter-widgets/controls",
            "_model_module_version": "1.5.0",
            "_model_name": "FloatProgressModel",
            "_view_count": null,
            "_view_module": "@jupyter-widgets/controls",
            "_view_module_version": "1.5.0",
            "_view_name": "ProgressView",
            "bar_style": "success",
            "description": "",
            "description_tooltip": null,
            "layout": "IPY_MODEL_bb5c9470cb6947919f125a813bc96ef0",
            "max": 313,
            "min": 0,
            "orientation": "horizontal",
            "style": "IPY_MODEL_a28b09e7ec224e8fad18e553d88d6ee6",
            "value": 313
          }
        },
        "16d0f9ae64cb4a4a97fbab7b3724e2d2": {
          "model_module": "@jupyter-widgets/controls",
          "model_name": "HTMLModel",
          "model_module_version": "1.5.0",
          "state": {
            "_dom_classes": [],
            "_model_module": "@jupyter-widgets/controls",
            "_model_module_version": "1.5.0",
            "_model_name": "HTMLModel",
            "_view_count": null,
            "_view_module": "@jupyter-widgets/controls",
            "_view_module_version": "1.5.0",
            "_view_name": "HTMLView",
            "description": "",
            "description_tooltip": null,
            "layout": "IPY_MODEL_ad9fd54d40ec40d892e03b5eead8f805",
            "placeholder": "​",
            "style": "IPY_MODEL_e0e345e0db9140159255704fbf446512",
            "value": " 313/313 [00:01&lt;00:00, 147.51it/s]"
          }
        },
        "0890036587cc4e6e8f76facb7769a148": {
          "model_module": "@jupyter-widgets/base",
          "model_name": "LayoutModel",
          "model_module_version": "1.2.0",
          "state": {
            "_model_module": "@jupyter-widgets/base",
            "_model_module_version": "1.2.0",
            "_model_name": "LayoutModel",
            "_view_count": null,
            "_view_module": "@jupyter-widgets/base",
            "_view_module_version": "1.2.0",
            "_view_name": "LayoutView",
            "align_content": null,
            "align_items": null,
            "align_self": null,
            "border": null,
            "bottom": null,
            "display": null,
            "flex": null,
            "flex_flow": null,
            "grid_area": null,
            "grid_auto_columns": null,
            "grid_auto_flow": null,
            "grid_auto_rows": null,
            "grid_column": null,
            "grid_gap": null,
            "grid_row": null,
            "grid_template_areas": null,
            "grid_template_columns": null,
            "grid_template_rows": null,
            "height": null,
            "justify_content": null,
            "justify_items": null,
            "left": null,
            "margin": null,
            "max_height": null,
            "max_width": null,
            "min_height": null,
            "min_width": null,
            "object_fit": null,
            "object_position": null,
            "order": null,
            "overflow": null,
            "overflow_x": null,
            "overflow_y": null,
            "padding": null,
            "right": null,
            "top": null,
            "visibility": null,
            "width": null
          }
        },
        "46119382fcca43d99ae63c588d5cc49c": {
          "model_module": "@jupyter-widgets/base",
          "model_name": "LayoutModel",
          "model_module_version": "1.2.0",
          "state": {
            "_model_module": "@jupyter-widgets/base",
            "_model_module_version": "1.2.0",
            "_model_name": "LayoutModel",
            "_view_count": null,
            "_view_module": "@jupyter-widgets/base",
            "_view_module_version": "1.2.0",
            "_view_name": "LayoutView",
            "align_content": null,
            "align_items": null,
            "align_self": null,
            "border": null,
            "bottom": null,
            "display": null,
            "flex": null,
            "flex_flow": null,
            "grid_area": null,
            "grid_auto_columns": null,
            "grid_auto_flow": null,
            "grid_auto_rows": null,
            "grid_column": null,
            "grid_gap": null,
            "grid_row": null,
            "grid_template_areas": null,
            "grid_template_columns": null,
            "grid_template_rows": null,
            "height": null,
            "justify_content": null,
            "justify_items": null,
            "left": null,
            "margin": null,
            "max_height": null,
            "max_width": null,
            "min_height": null,
            "min_width": null,
            "object_fit": null,
            "object_position": null,
            "order": null,
            "overflow": null,
            "overflow_x": null,
            "overflow_y": null,
            "padding": null,
            "right": null,
            "top": null,
            "visibility": null,
            "width": null
          }
        },
        "120b4908076f496eaabe0ee91f0849a2": {
          "model_module": "@jupyter-widgets/controls",
          "model_name": "DescriptionStyleModel",
          "model_module_version": "1.5.0",
          "state": {
            "_model_module": "@jupyter-widgets/controls",
            "_model_module_version": "1.5.0",
            "_model_name": "DescriptionStyleModel",
            "_view_count": null,
            "_view_module": "@jupyter-widgets/base",
            "_view_module_version": "1.2.0",
            "_view_name": "StyleView",
            "description_width": ""
          }
        },
        "bb5c9470cb6947919f125a813bc96ef0": {
          "model_module": "@jupyter-widgets/base",
          "model_name": "LayoutModel",
          "model_module_version": "1.2.0",
          "state": {
            "_model_module": "@jupyter-widgets/base",
            "_model_module_version": "1.2.0",
            "_model_name": "LayoutModel",
            "_view_count": null,
            "_view_module": "@jupyter-widgets/base",
            "_view_module_version": "1.2.0",
            "_view_name": "LayoutView",
            "align_content": null,
            "align_items": null,
            "align_self": null,
            "border": null,
            "bottom": null,
            "display": null,
            "flex": null,
            "flex_flow": null,
            "grid_area": null,
            "grid_auto_columns": null,
            "grid_auto_flow": null,
            "grid_auto_rows": null,
            "grid_column": null,
            "grid_gap": null,
            "grid_row": null,
            "grid_template_areas": null,
            "grid_template_columns": null,
            "grid_template_rows": null,
            "height": null,
            "justify_content": null,
            "justify_items": null,
            "left": null,
            "margin": null,
            "max_height": null,
            "max_width": null,
            "min_height": null,
            "min_width": null,
            "object_fit": null,
            "object_position": null,
            "order": null,
            "overflow": null,
            "overflow_x": null,
            "overflow_y": null,
            "padding": null,
            "right": null,
            "top": null,
            "visibility": null,
            "width": null
          }
        },
        "a28b09e7ec224e8fad18e553d88d6ee6": {
          "model_module": "@jupyter-widgets/controls",
          "model_name": "ProgressStyleModel",
          "model_module_version": "1.5.0",
          "state": {
            "_model_module": "@jupyter-widgets/controls",
            "_model_module_version": "1.5.0",
            "_model_name": "ProgressStyleModel",
            "_view_count": null,
            "_view_module": "@jupyter-widgets/base",
            "_view_module_version": "1.2.0",
            "_view_name": "StyleView",
            "bar_color": null,
            "description_width": ""
          }
        },
        "ad9fd54d40ec40d892e03b5eead8f805": {
          "model_module": "@jupyter-widgets/base",
          "model_name": "LayoutModel",
          "model_module_version": "1.2.0",
          "state": {
            "_model_module": "@jupyter-widgets/base",
            "_model_module_version": "1.2.0",
            "_model_name": "LayoutModel",
            "_view_count": null,
            "_view_module": "@jupyter-widgets/base",
            "_view_module_version": "1.2.0",
            "_view_name": "LayoutView",
            "align_content": null,
            "align_items": null,
            "align_self": null,
            "border": null,
            "bottom": null,
            "display": null,
            "flex": null,
            "flex_flow": null,
            "grid_area": null,
            "grid_auto_columns": null,
            "grid_auto_flow": null,
            "grid_auto_rows": null,
            "grid_column": null,
            "grid_gap": null,
            "grid_row": null,
            "grid_template_areas": null,
            "grid_template_columns": null,
            "grid_template_rows": null,
            "height": null,
            "justify_content": null,
            "justify_items": null,
            "left": null,
            "margin": null,
            "max_height": null,
            "max_width": null,
            "min_height": null,
            "min_width": null,
            "object_fit": null,
            "object_position": null,
            "order": null,
            "overflow": null,
            "overflow_x": null,
            "overflow_y": null,
            "padding": null,
            "right": null,
            "top": null,
            "visibility": null,
            "width": null
          }
        },
        "e0e345e0db9140159255704fbf446512": {
          "model_module": "@jupyter-widgets/controls",
          "model_name": "DescriptionStyleModel",
          "model_module_version": "1.5.0",
          "state": {
            "_model_module": "@jupyter-widgets/controls",
            "_model_module_version": "1.5.0",
            "_model_name": "DescriptionStyleModel",
            "_view_count": null,
            "_view_module": "@jupyter-widgets/base",
            "_view_module_version": "1.2.0",
            "_view_name": "StyleView",
            "description_width": ""
          }
        }
      }
    }
  },
  "nbformat": 4,
  "nbformat_minor": 0
}